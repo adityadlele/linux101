{
 "cells": [
  {
   "cell_type": "markdown",
   "id": "e85cee32",
   "metadata": {
    "tags": []
   },
   "source": [
    "Lecture 2\n",
    "=========\n",
    "##Ergodic hypothesis\n",
    "\n",
    "We discussed an MD simulation related to liquid Ar previously. In this simulations, we modeled Ar liquid at 85 K using XYZ atoms. If you consider a\n",
    "vessel full of liquid Ar with a volume of 10$^{-3}$ $m^3$, it will contain 1.4096 kg of Ar or 2.125*10$^{25}$ Ar atoms. Considering that this is a fluid,\n",
    "the arrangement of atoms is not periodic either. These atoms could arrange themselves in so many ways. If we chose any XYZ atoms from this vessel, \n",
    "we would find a very large number of configurations or states. The macroscopic properties that we observe are a result of average of these configurations.\n",
    "How does our system of XYZ atoms would predict the macroscopic properties? \n",
    "\n",
    "Of course, we can model a large number of configurations and then take an average to calculate the property of interest.\n",
    "However, a better solution is given by the ergodic hypothesis. It states that over long periods of time, all the states of \n",
    "the system are equiprobable. In other words, time average of a property is same as sampling multiple states. As you can imagine, this is \n",
    "really useful!\n",
    "\n",
    "```{admonition} Exercise x\n",
    "To test the ergodic hypothesis, use the MD code/LAMMPS to determine the density and/or velocity distribution of a system of XYZ Ar atoms\n",
    "as described earlier with MD simulation times of x, 10x and 100x ps. Sample the properties for every 100 timesteps with a timestep of x fs.\n",
    "Compare the calculated property with the experimental result of X.  \n",
    "```\n",
    "\n",
    " \n",
    "##Ensembles\n",
    "\n",
    "Our MD simulations code described earlier conserved the number of particles (N), volume (V) and total energy (E) of the system. This is referred to \n",
    "as the NVE or the microcanonical ensemble. It is often more convinient to perform simulations at constant temperature or pressure. This is achieved through\n",
    "NVT and NPT ensembles respectively."
   ]
  }
 ],
 "metadata": {
  "jupytext": {
   "text_representation": {
    "extension": ".md",
    "format_name": "myst",
    "format_version": 0.13,
    "jupytext_version": "1.10.3"
   }
  },
  "kernelspec": {
   "display_name": "ase [~/.conda/envs/ase/]",
   "language": "python",
   "name": "python3"
  },
  "language_info": {
   "codemirror_mode": {
    "name": "ipython",
    "version": 3
   },
   "file_extension": ".py",
   "mimetype": "text/x-python",
   "name": "python",
   "nbconvert_exporter": "python",
   "pygments_lexer": "ipython3",
   "version": "3.8.12"
  },
  "source_map": [
   14
  ]
 },
 "nbformat": 4,
 "nbformat_minor": 5
}