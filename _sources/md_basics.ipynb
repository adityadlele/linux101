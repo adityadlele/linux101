{
 "cells": [
  {
   "cell_type": "markdown",
   "id": "ef4c1422",
   "metadata": {
    "tags": []
   },
   "source": [
    "Molecular dynamics basics\n",
    "=========================\n",
    "\n",
    "Static DFT or other ab-initio (Quantum chemistry) calculations provide us a lot of useful and very accurate information. However, atoms and molecules around us are in constant motion at finite temperatures.\n",
    " Molecular dynamics(MD) simulation techniques model this motion. The driving force behind the motion could be ab-intio calculations or empirical potentials. Several\n",
    " flavors of MD have been developed among ab-initio and classical techniques to tackle different type of processes. Empirical potentials can be further classified into reactive and \n",
    "non-reactive potentials. Recently, an additional flavor of machine learning (ML) based potentials is also being developed.  Different molecular dynamics techniques have different \n",
    "levels of accuracy and uses. \n",
    "\n",
    "> There are no wrong MD techniques, just wrong applications. - (Prof. Adri van Duin)\n",
    "\n",
    "\n",
    "\n",
    "```{toctree}\n",
    ":hidden:\n",
    ":titlesonly:\n",
    "\n",
    "\n",
    "lecture1\n",
    "lecture2\n",
    "lecture3\n",
    "lecture4\n",
    "```"
   ]
  }
 ],
 "metadata": {
  "jupytext": {
   "text_representation": {
    "extension": ".md",
    "format_name": "myst",
    "format_version": 0.13,
    "jupytext_version": "1.10.3"
   }
  },
  "kernelspec": {
   "display_name": "ase [~/.conda/envs/ase/]",
   "language": "python",
   "name": "python3"
  },
  "language_info": {
   "codemirror_mode": {
    "name": "ipython",
    "version": 3
   },
   "file_extension": ".py",
   "mimetype": "text/x-python",
   "name": "python",
   "nbconvert_exporter": "python",
   "pygments_lexer": "ipython3",
   "version": "3.8.12"
  },
  "source_map": [
   14
  ]
 },
 "nbformat": 4,
 "nbformat_minor": 5
}