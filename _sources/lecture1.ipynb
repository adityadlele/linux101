{
 "cells": [
  {
   "cell_type": "markdown",
   "id": "e33dd22b",
   "metadata": {
    "tags": []
   },
   "source": [
    "Lecture 1\n",
    "=========\n",
    "## L-J potential\n",
    "\n",
    "The LJ potential is defined as"
   ]
  },
  {
   "cell_type": "markdown",
   "id": "18c63254",
   "metadata": {},
   "source": [
    "$$\n",
    "V(r)=4\\epsilon\\left[\\left(\\frac{\\sigma}{r}\\right)^{12}-\\left(\\frac{\\sigma}{r}\\right)^{6}\\right]\n",
    "$$"
   ]
  },
  {
   "cell_type": "markdown",
   "id": "f8226fe9",
   "metadata": {},
   "source": [
    "Let us plot the LJ potential first"
   ]
  },
  {
   "cell_type": "code",
   "execution_count": 1,
   "id": "9b0913b7",
   "metadata": {},
   "outputs": [],
   "source": [
    "import numpy as np\n",
    "import matplotlib.pyplot as plt"
   ]
  },
  {
   "cell_type": "code",
   "execution_count": 2,
   "id": "b575150d",
   "metadata": {},
   "outputs": [
    {
     "data": {
      "image/png": "[encoded data removed]",
      "text/plain": [
       "<Figure size 432x288 with 2 Axes>"
      ]
     },
     "metadata": {
      "filenames": {
       "image/png": "/home/al9001/Documents/mynewbook/_build/jupyter_execute/lecture1_4_0.png"
      },
      "needs_background": "light"
     },
     "output_type": "display_data"
    }
   ],
   "source": [
    "# Boltzmann's constant, J/K\n",
    "kB = 1.381e-23\n",
    "\n",
    "# The Lennard-Jones parameters:\n",
    "A = 1.024e-23   # J.nm^6\n",
    "B = 1.582e-26   # J.nm^12\n",
    "\n",
    "# Adjust the units of A and B - they have more manageable values\n",
    "# in K.nm^6 and K.nm^12\n",
    "A, B = A / kB, B / kB\n",
    "\n",
    "# Interatomic distance, in nm\n",
    "r = np.linspace(0.3, 1, 1000)\n",
    "# Interatomic potential\n",
    "U = B/r**12 - A/r**6\n",
    "# Interatomic force\n",
    "F = 12*B/r**13 - 6*A/r**7\n",
    "\n",
    "line1 = plt.plot(r, U, 'k', lw=2, label=r'U(r)')\n",
    "plt.xlim(0.3, 0.8)\n",
    "plt.ylim(-150, 100)\n",
    "\n",
    "plt.twinx()\n",
    "line2 = plt.plot(r, F, 'k', ls=':', lw=2, label=r'F(r)')\n",
    "plt.xlim(0.3, 0.8)\n",
    "plt.ylim(-1000, 1000)\n",
    "\n",
    "# Jump through some hoops to get the both line's labels in the same legend:\n",
    "lines = line1 + line2\n",
    "labels = []\n",
    "for line in lines:\n",
    "    labels.append(line.get_label())\n",
    "plt.legend(lines, labels)\n",
    "\n",
    "plt.show()"
   ]
  },
  {
   "cell_type": "markdown",
   "id": "21046a50",
   "metadata": {},
   "source": [
    "```{admonition} Exercise 1\n",
    "Use the code above as an example to plot energy of L-J potentials for He, Ne and Kr. Comment on the comparison.\n",
    "```\n",
    "\n",
    "\n",
    "\n",
    "## The MD run\n",
    "\n",
    "Let us take a look at an example of a LJ potential to model the motion of an inert gas. You will be\n",
    "able to play with the following code as a part of excersize for this lecture. The code uses ASE to\n",
    "simulate Ar liquid at 94.4 K using LJ potential. \n",
    "\n",
    "> This example has a historical significance. Aneesur Rahman, considered as one of the pioneers of\n",
    " molecular dynamics, used similar methods modelling motion of atoms in liquid Argon. This paper is \n",
    "generally considered to mark the beginnings of the molecular dynamics method. You can access the \n",
    "original paper [here](https://journals.aps.org/pr/abstract/10.1103/PhysRev.136.A405)."
   ]
  },
  {
   "cell_type": "code",
   "execution_count": 3,
   "id": "88363e8c",
   "metadata": {},
   "outputs": [],
   "source": [
    "from ase import Atoms, units\n",
    "from ase.visualize import view\n",
    "from ase.calculators.lj import LennardJones\n",
    "from ase.md.velocitydistribution import MaxwellBoltzmannDistribution\n",
    "from ase.md.verlet import VelocityVerlet\n",
    "from ase.md.langevin import Langevin\n",
    "from ase.io.trajectory import Trajectory\n",
    "from ase.optimize.minimahopping import MinimaHopping\n",
    "from ase_notebook import AseView, ViewConfig, get_example_atoms\n",
    "from ase.io import read, write, lammpsrun\n",
    "from ase import units"
   ]
  },
  {
   "cell_type": "markdown",
   "id": "d389e2d4",
   "metadata": {},
   "source": [
    "Let us first define the simulation box geometry."
   ]
  },
  {
   "cell_type": "code",
   "execution_count": 4,
   "id": "6e76ca72",
   "metadata": {},
   "outputs": [
    {
     "data": {
      "application/vnd.jupyter.widget-view+json": {
       "model_id": "2b874003acef424ebc1474dd417d05d6",
       "version_major": 2,
       "version_minor": 0
      },
      "text/plain": []
     },
     "metadata": {},
     "output_type": "display_data"
    },
    {
     "data": {
      "application/vnd.jupyter.widget-view+json": {
       "model_id": "5f4a157adeb14879abe805a7460b6ca8",
       "version_major": 2,
       "version_minor": 0
      },
      "text/plain": [
       "HBox(children=(NGLWidget(), VBox(children=(Dropdown(description='Show', options=('All', 'Ar'), value='All'), D…"
      ]
     },
     "metadata": {},
     "output_type": "display_data"
    }
   ],
   "source": [
    "atoms=read('/home/al9001/Ar.xyz')\n",
    "view(atoms, viewer='ngl')"
   ]
  },
  {
   "cell_type": "markdown",
   "id": "39104e75",
   "metadata": {},
   "source": [
    "Run a sample MD simulation."
   ]
  },
  {
   "cell_type": "code",
   "execution_count": 5,
   "id": "a835cceb",
   "metadata": {},
   "outputs": [
    {
     "name": "stdout",
     "output_type": "stream",
     "text": [
      "Energy per atom: Epot = -0.000eV  Ekin = 0.01eV (T= 95K)  Etot = 0.012eV\n",
      "Energy per atom: Epot = -0.000eV  Ekin = 0.01eV (T= 95K)  Etot = 0.012eV\n"
     ]
    },
    {
     "name": "stdout",
     "output_type": "stream",
     "text": [
      "Energy per atom: Epot = -0.000eV  Ekin = 0.01eV (T= 95K)  Etot = 0.012eV\n"
     ]
    },
    {
     "name": "stdout",
     "output_type": "stream",
     "text": [
      "Energy per atom: Epot = -0.000eV  Ekin = 0.01eV (T= 95K)  Etot = 0.012eV\n"
     ]
    },
    {
     "name": "stdout",
     "output_type": "stream",
     "text": [
      "Energy per atom: Epot = -0.000eV  Ekin = 0.01eV (T= 96K)  Etot = 0.012eV\n"
     ]
    },
    {
     "name": "stdout",
     "output_type": "stream",
     "text": [
      "Energy per atom: Epot = -0.000eV  Ekin = 0.01eV (T= 95K)  Etot = 0.012eV\n"
     ]
    },
    {
     "data": {
      "text/plain": [
       "True"
      ]
     },
     "execution_count": 5,
     "metadata": {},
     "output_type": "execute_result"
    }
   ],
   "source": [
    "atoms.calc = LennardJones(sigma=0.34,epsilon=1.657E-21,rc=3.4)\n",
    "MaxwellBoltzmannDistribution(atoms, temp=0.00814)\n",
    "T = 94.4  # Kelvin\n",
    "\n",
    "dyn = Langevin(atoms, 0.1*units.fs, T*units.kB, 0.002)\n",
    "\n",
    "def printenergy(a=atoms):  # store a reference to atoms in the definition.\n",
    "    \"\"\"Function to print the potential, kinetic and total energy.\"\"\"\n",
    "    epot = a.get_potential_energy() / len(a)\n",
    "    ekin = a.get_kinetic_energy() / len(a)\n",
    "    print('Energy per atom: Epot = %.3feV  Ekin = %.2feV (T=%3.0fK)  '\n",
    "          'Etot = %.3feV' % (epot, ekin, ekin / (1.5 * units.kB), epot + ekin))\n",
    "\n",
    "\n",
    "dyn.attach(printenergy, interval=50)\n",
    "\n",
    "# We also want to save the positions of all atoms after every 100th time step.\n",
    "traj = Trajectory('moldyn3.traj', 'w', atoms)\n",
    "dyn.attach(traj.write, interval=50)\n",
    "\n",
    "# Now run the dynamics\n",
    "printenergy()\n",
    "dyn.run(200)"
   ]
  }
 ],
 "metadata": {
  "jupytext": {
   "text_representation": {
    "extension": ".md",
    "format_name": "myst",
    "format_version": 0.13,
    "jupytext_version": "1.10.3"
   }
  },
  "kernelspec": {
   "display_name": "ase [~/.conda/envs/ase/]",
   "language": "python",
   "name": "python3"
  },
  "language_info": {
   "codemirror_mode": {
    "name": "ipython",
    "version": 3
   },
   "file_extension": ".py",
   "mimetype": "text/x-python",
   "name": "python",
   "nbconvert_exporter": "python",
   "pygments_lexer": "ipython3",
   "version": "3.8.12"
  },
  "source_map": [
   14,
   22,
   28,
   33,
   40,
   76,
   96,
   108,
   112,
   115,
   119
  ],
  "widgets": {
   "application/vnd.jupyter.widget-state+json": {
    "state": {
     "041d454c15924956ae5a1332482523ba": {
      "model_module": "@jupyter-widgets/controls",
      "model_module_version": "1.5.0",
      "model_name": "LinkModel",
      "state": {
       "_model_module": "@jupyter-widgets/controls",
       "_model_module_version": "1.5.0",
       "_model_name": "LinkModel",
       "_view_count": null,
       "_view_module": "@jupyter-widgets/controls",
       "_view_module_version": "1.5.0",
       "_view_name": null,
       "source": [
        "IPY_MODEL_b63ed23ca12143d1bcd1b0bc83a4a960",
        "max"
       ],
       "target": [
        "IPY_MODEL_1d4ba07791e3484daed6f88298b67774",
        "max_frame"
       ]
      }
     },
     "07abaa32d5c44c10beef4218e9a683a3": {
      "model_module": "@jupyter-widgets/controls",
      "model_module_version": "1.5.0",
      "model_name": "LinkModel",
      "state": {
       "_model_module": "@jupyter-widgets/controls",
       "_model_module_version": "1.5.0",
       "_model_name": "LinkModel",
       "_view_count": null,
       "_view_module": "@jupyter-widgets/controls",
       "_view_module_version": "1.5.0",
       "_view_name": null,
       "source": [
        "IPY_MODEL_58bacbc3fa6a4ead88f22a3fa777aa1b",
        "value"
       ],
       "target": [
        "IPY_MODEL_b63ed23ca12143d1bcd1b0bc83a4a960",
        "value"
       ]
      }
     },
     "14a5214b9e934e758f671af6269097c8": {
      "model_module": "@jupyter-widgets/controls",
      "model_module_version": "1.5.0",
      "model_name": "LinkModel",
      "state": {
       "_model_module": "@jupyter-widgets/controls",
       "_model_module_version": "1.5.0",
       "_model_name": "LinkModel",
       "_view_count": null,
       "_view_module": "@jupyter-widgets/controls",
       "_view_module_version": "1.5.0",
       "_view_name": null,
       "source": [
        "IPY_MODEL_58bacbc3fa6a4ead88f22a3fa777aa1b",
        "max"
       ],
       "target": [
        "IPY_MODEL_1d4ba07791e3484daed6f88298b67774",
        "max_frame"
       ]
      }
     },
     "15cbfaaa553940c1a9e3b92e618a9107": {
      "model_module": "@jupyter-widgets/controls",
      "model_module_version": "1.5.0",
      "model_name": "DescriptionStyleModel",
      "state": {
       "_model_module": "@jupyter-widgets/controls",
       "_model_module_version": "1.5.0",
       "_model_name": "DescriptionStyleModel",
       "_view_count": null,
       "_view_module": "@jupyter-widgets/base",
       "_view_module_version": "1.2.0",
       "_view_name": "StyleView",
       "description_width": ""
      }
     },
     "1c44970fd0f44e75a5403175e2bd6418": {
      "model_module": "@jupyter-widgets/base",
      "model_module_version": "1.2.0",
      "model_name": "LayoutModel",
      "state": {
       "_model_module": "@jupyter-widgets/base",
       "_model_module_version": "1.2.0",
       "_model_name": "LayoutModel",
       "_view_count": null,
       "_view_module": "@jupyter-widgets/base",
       "_view_module_version": "1.2.0",
       "_view_name": "LayoutView",
       "align_content": null,
       "align_items": null,
       "align_self": null,
       "border": null,
       "bottom": null,
       "display": null,
       "flex": null,
       "flex_flow": null,
       "grid_area": null,
       "grid_auto_columns": null,
       "grid_auto_flow": null,
       "grid_auto_rows": null,
       "grid_column": null,
       "grid_gap": null,
       "grid_row": null,
       "grid_template_areas": null,
       "grid_template_columns": null,
       "grid_template_rows": null,
       "height": null,
       "justify_content": null,
       "justify_items": null,
       "left": null,
       "margin": null,
       "max_height": null,
       "max_width": null,
       "min_height": null,
       "min_width": null,
       "object_fit": null,
       "object_position": null,
       "order": null,
       "overflow": null,
       "overflow_x": null,
       "overflow_y": null,
       "padding": null,
       "right": null,
       "top": null,
       "visibility": null,
       "width": null
      }
     },
     "1d4ba07791e3484daed6f88298b67774": {
      "model_module": "nglview-js-widgets",
      "model_module_version": "3.0.1",
      "model_name": "NGLModel",
      "state": {
       "_camera_orientation": [],
       "_camera_str": "orthographic",
       "_dom_classes": [],
       "_gui_theme": null,
       "_ibtn_fullscreen": "IPY_MODEL_d692af07a207491dbfcdf85904f4a214",
       "_igui": null,
       "_iplayer": "IPY_MODEL_b27b5935724f46739e1f97cf1f04c96e",
       "_model_module": "nglview-js-widgets",
       "_model_module_version": "3.0.1",
       "_model_name": "NGLModel",
       "_ngl_color_dict": {},
       "_ngl_coordinate_resource": {},
       "_ngl_full_stage_parameters": {},
       "_ngl_msg_archive": [
        {
         "args": [
          {
           "binary": false,
           "data": "CRYST1   34.779   34.779   34.779  90.00  90.00  90.00 P 1\nMODEL     1\nATOM      0   Ar MOL     1      12.956 -12.225  16.153  1.00  0.00          AR  \nATOM      1   Ar MOL     1       4.229  -0.570  13.656  1.00  0.00          AR  \nATOM      2   Ar MOL     1      -8.795   1.752  -7.393  1.00  0.00          AR  \nATOM      3   Ar MOL     1      -1.788   5.907  -6.045  1.00  0.00          AR  \nATOM      4   Ar MOL     1      -9.293  -8.465  -2.872  1.00  0.00          AR  \nATOM      5   Ar MOL     1      -5.168   8.375  -6.231  1.00  0.00          AR  \nATOM      6   Ar MOL     1      10.022   1.027 -14.186  1.00  0.00          AR  \nATOM      7   Ar MOL     1      11.398  -7.164  -4.887  1.00  0.00          AR  \nATOM      8   Ar MOL     1       9.863 -13.330   1.266  1.00  0.00          AR  \nATOM      9   Ar MOL     1      16.014 -13.592  -6.970  1.00  0.00          AR  \nATOM     10   Ar MOL     1     -13.058  16.138 -15.864  1.00  0.00          AR  \nATOM     11   Ar MOL     1      -0.076   9.656   6.206  1.00  0.00          AR  \nATOM     12   Ar MOL     1     -16.220  13.834  -2.358  1.00  0.00          AR  \nATOM     13   Ar MOL     1      11.421  -9.543   7.220  1.00  0.00          AR  \nATOM     14   Ar MOL     1       9.998  -9.032 -11.530  1.00  0.00          AR  \nATOM     15   Ar MOL     1      -2.544   8.411  -5.137  1.00  0.00          AR  \nATOM     16   Ar MOL     1     -13.284 -10.711   6.802  1.00  0.00          AR  \nATOM     17   Ar MOL     1       8.219   8.110  -5.911  1.00  0.00          AR  \nATOM     18   Ar MOL     1     -13.677   1.059  12.420  1.00  0.00          AR  \nATOM     19   Ar MOL     1      -8.081  14.872   9.691  1.00  0.00          AR  \nATOM     20   Ar MOL     1     -10.706  -3.269 -12.904  1.00  0.00          AR  \nATOM     21   Ar MOL     1       4.021  -0.259   0.921  1.00  0.00          AR  \nATOM     22   Ar MOL     1     -10.804  -2.826  -9.367  1.00  0.00          AR  \nATOM     23   Ar MOL     1      14.276  -2.204   7.621  1.00  0.00          AR  \nATOM     24   Ar MOL     1     -13.417  -8.229  -2.581  1.00  0.00          AR  \nATOM     25   Ar MOL     1      -9.884  14.922   7.582  1.00  0.00          AR  \nATOM     26   Ar MOL     1       1.290 -11.758   3.580  1.00  0.00          AR  \nATOM     27   Ar MOL     1      -7.244  -1.863  -7.805  1.00  0.00          AR  \nATOM     28   Ar MOL     1      11.930  -4.933   5.873  1.00  0.00          AR  \nATOM     29   Ar MOL     1      10.919 -10.091  -4.471  1.00  0.00          AR  \nATOM     30   Ar MOL     1       3.115  13.904  -6.893  1.00  0.00          AR  \nATOM     31   Ar MOL     1     -13.133  12.279   7.021  1.00  0.00          AR  \nATOM     32   Ar MOL     1      -7.744  16.142   5.202  1.00  0.00          AR  \nATOM     33   Ar MOL     1     -15.310   8.287   9.840  1.00  0.00          AR  \nATOM     34   Ar MOL     1      -7.094  -0.236 -12.860  1.00  0.00          AR  \nATOM     35   Ar MOL     1       5.090   3.945  -5.242  1.00  0.00          AR  \nATOM     36   Ar MOL     1     -12.767  10.137  10.362  1.00  0.00          AR  \nATOM     37   Ar MOL     1      -0.080 -11.034 -16.139  1.00  0.00          AR  \nATOM     38   Ar MOL     1     -10.109  -5.391 -11.202  1.00  0.00          AR  \nATOM     39   Ar MOL     1      13.410   0.494   6.727  1.00  0.00          AR  \nATOM     40   Ar MOL     1       9.089   9.937 -16.138  1.00  0.00          AR  \nATOM     41   Ar MOL     1       2.639   0.380  -1.996  1.00  0.00          AR  \nATOM     42   Ar MOL     1      13.315  -2.644 -10.323  1.00  0.00          AR  \nATOM     43   Ar MOL     1       2.916   0.268   6.169  1.00  0.00          AR  \nATOM     44   Ar MOL     1      -2.256  -3.505 -15.105  1.00  0.00          AR  \nATOM     45   Ar MOL     1       7.104   6.841   1.309  1.00  0.00          AR  \nATOM     46   Ar MOL     1      -3.565   6.137   2.735  1.00  0.00          AR  \nATOM     47   Ar MOL     1      -2.280  -8.441  -3.963  1.00  0.00          AR  \nATOM     48   Ar MOL     1       2.344  13.440  -9.703  1.00  0.00          AR  \nATOM     49   Ar MOL     1     -16.142  -2.310  14.506  1.00  0.00          AR  \nATOM     50   Ar MOL     1      12.647 -10.141 -15.712  1.00  0.00          AR  \nATOM     51   Ar MOL     1     -16.138  15.472  -7.253  1.00  0.00          AR  \nATOM     52   Ar MOL     1      -4.029  13.762  -5.992  1.00  0.00          AR  \nATOM     53   Ar MOL     1       6.917   1.444  14.340  1.00  0.00          AR  \nATOM     54   Ar MOL     1     -14.255 -13.708  -5.725  1.00  0.00          AR  \nATOM     55   Ar MOL     1      -1.456   8.277   3.486  1.00  0.00          AR  \nATOM     56   Ar MOL     1       0.959  -8.407   3.079  1.00  0.00          AR  \nATOM     57   Ar MOL     1     -12.034 -13.801  -3.829  1.00  0.00          AR  \nATOM     58   Ar MOL     1     -14.394 -13.942 -12.557  1.00  0.00          AR  \nATOM     59   Ar MOL     1      -6.663  -9.990 -14.601  1.00  0.00          AR  \nATOM     60   Ar MOL     1      -7.406 -14.315  12.391  1.00  0.00          AR  \nATOM     61   Ar MOL     1     -11.689  -0.781   9.518  1.00  0.00          AR  \nATOM     62   Ar MOL     1       7.539  11.062  10.116  1.00  0.00          AR  \nATOM     63   Ar MOL     1     -11.783  -8.064   1.560  1.00  0.00          AR  \nATOM     64   Ar MOL     1      -0.200  12.100   4.258  1.00  0.00          AR  \nATOM     65   Ar MOL     1      -3.238 -16.074  -0.147  1.00  0.00          AR  \nATOM     66   Ar MOL     1      16.145  14.219  -5.503  1.00  0.00          AR  \nATOM     67   Ar MOL     1       6.119   2.259  -0.444  1.00  0.00          AR  \nATOM     68   Ar MOL     1      -6.347  15.786   7.712  1.00  0.00          AR  \nATOM     69   Ar MOL     1      -0.656  -1.904  -2.845  1.00  0.00          AR  \nATOM     70   Ar MOL     1     -14.744  -0.033   3.104  1.00  0.00          AR  \nATOM     71   Ar MOL     1       9.750  -4.326  13.294  1.00  0.00          AR  \nATOM     72   Ar MOL     1       9.536  -4.160   3.682  1.00  0.00          AR  \nATOM     73   Ar MOL     1       2.643  -3.044   3.098  1.00  0.00          AR  \nATOM     74   Ar MOL     1       3.444  -4.773  -5.335  1.00  0.00          AR  \nATOM     75   Ar MOL     1     -12.297  -6.883  10.405  1.00  0.00          AR  \nATOM     76   Ar MOL     1     -13.369   9.218 -15.956  1.00  0.00          AR  \nATOM     77   Ar MOL     1      -6.204  12.861   8.310  1.00  0.00          AR  \nATOM     78   Ar MOL     1      12.956  11.601   6.883  1.00  0.00          AR  \nATOM     79   Ar MOL     1      12.828 -13.890   5.955  1.00  0.00          AR  \nATOM     80   Ar MOL     1     -12.696   9.310  -3.242  1.00  0.00          AR  \nATOM     81   Ar MOL     1      15.857  -0.579   0.815  1.00  0.00          AR  \nATOM     82   Ar MOL     1       1.363  -4.256  12.480  1.00  0.00          AR  \nATOM     83   Ar MOL     1      -2.913   9.366 -14.297  1.00  0.00          AR  \nATOM     84   Ar MOL     1       3.569  -9.149  -0.888  1.00  0.00          AR  \nATOM     85   Ar MOL     1      16.140  16.027   0.060  1.00  0.00          AR  \nATOM     86   Ar MOL     1      16.139 -13.263   6.748  1.00  0.00          AR  \nATOM     87   Ar MOL     1      15.324   1.165  14.191  1.00  0.00          AR  \nATOM     88   Ar MOL     1     -11.690  -1.914   2.459  1.00  0.00          AR  \nATOM     89   Ar MOL     1      -9.401  -4.139 -15.166  1.00  0.00          AR  \nATOM     90   Ar MOL     1      -4.668  -9.774 -12.548  1.00  0.00          AR  \nATOM     91   Ar MOL     1       0.942   7.363  11.097  1.00  0.00          AR  \nATOM     92   Ar MOL     1     -15.110  14.779  14.498  1.00  0.00          AR  \nATOM     93   Ar MOL     1     -11.462   2.369  11.486  1.00  0.00          AR  \nATOM     94   Ar MOL     1      -9.211  -3.103   0.557  1.00  0.00          AR  \nATOM     95   Ar MOL     1     -14.020   1.603  -6.625  1.00  0.00          AR  \nATOM     96   Ar MOL     1      -0.206  -4.063   5.284  1.00  0.00          AR  \nATOM     97   Ar MOL     1       2.119   9.808 -13.220  1.00  0.00          AR  \nATOM     98   Ar MOL     1      16.137   9.785   9.392  1.00  0.00          AR  \nATOM     99   Ar MOL     1       3.046 -12.886  -5.002  1.00  0.00          AR  \nATOM    100   Ar MOL     1      -8.193 -15.303   3.590  1.00  0.00          AR  \nATOM    101   Ar MOL     1     -15.616  -1.881  -4.725  1.00  0.00          AR  \nATOM    102   Ar MOL     1       8.204  -0.178  -4.067  1.00  0.00          AR  \nATOM    103   Ar MOL     1      -7.923  -0.135  -1.241  1.00  0.00          AR  \nATOM    104   Ar MOL     1      -7.137  -7.667   0.148  1.00  0.00          AR  \nATOM    105   Ar MOL     1     -11.243 -13.413 -14.114  1.00  0.00          AR  \nATOM    106   Ar MOL     1     -13.061  13.406   9.781  1.00  0.00          AR  \nATOM    107   Ar MOL     1      -5.629   7.518   6.178  1.00  0.00          AR  \nATOM    108   Ar MOL     1     -13.971 -16.139  -2.662  1.00  0.00          AR  \nATOM    109   Ar MOL     1       0.748  -1.132  -7.956  1.00  0.00          AR  \nATOM    110   Ar MOL     1      -5.649  14.663  14.491  1.00  0.00          AR  \nATOM    111   Ar MOL     1      -0.805  10.554  -5.410  1.00  0.00          AR  \nATOM    112   Ar MOL     1      13.499 -13.425  13.747  1.00  0.00          AR  \nATOM    113   Ar MOL     1      -0.163  14.983  -9.707  1.00  0.00          AR  \nATOM    114   Ar MOL     1       7.148   9.832  -0.278  1.00  0.00          AR  \nATOM    115   Ar MOL     1      -8.235  11.112 -12.772  1.00  0.00          AR  \nATOM    116   Ar MOL     1       7.298  -4.489   5.297  1.00  0.00          AR  \nATOM    117   Ar MOL     1     -11.074  -5.638  -1.495  1.00  0.00          AR  \nATOM    118   Ar MOL     1      -5.694  11.189  -7.325  1.00  0.00          AR  \nATOM    119   Ar MOL     1       8.750  -6.377  -3.041  1.00  0.00          AR  \nATOM    120   Ar MOL     1     -13.838  11.935   3.904  1.00  0.00          AR  \nATOM    121   Ar MOL     1      -2.479 -15.366   3.957  1.00  0.00          AR  \nATOM    122   Ar MOL     1      -6.641  -3.941  -3.377  1.00  0.00          AR  \nATOM    123   Ar MOL     1      -2.114 -10.990 -12.119  1.00  0.00          AR  \nATOM    124   Ar MOL     1     -16.139  13.422 -11.686  1.00  0.00          AR  \nATOM    125   Ar MOL     1       4.407   2.736  13.700  1.00  0.00          AR  \nATOM    126   Ar MOL     1      13.513  -5.390 -13.659  1.00  0.00          AR  \nATOM    127   Ar MOL     1      -3.307  13.863 -11.603  1.00  0.00          AR  \nATOM    128   Ar MOL     1     -13.250  -7.312 -15.745  1.00  0.00          AR  \nATOM    129   Ar MOL     1       1.497  -7.173   7.434  1.00  0.00          AR  \nATOM    130   Ar MOL     1       5.422   0.996  -5.957  1.00  0.00          AR  \nATOM    131   Ar MOL     1       8.174  -4.598  -6.342  1.00  0.00          AR  \nATOM    132   Ar MOL     1       2.776  11.693  -5.308  1.00  0.00          AR  \nATOM    133   Ar MOL     1       6.708   9.285   5.028  1.00  0.00          AR  \nATOM    134   Ar MOL     1     -15.056   5.211  -5.287  1.00  0.00          AR  \nATOM    135   Ar MOL     1     -10.956 -15.192  15.809  1.00  0.00          AR  \nATOM    136   Ar MOL     1       8.657   1.521 -10.080  1.00  0.00          AR  \nATOM    137   Ar MOL     1       9.954   8.394  15.000  1.00  0.00          AR  \nATOM    138   Ar MOL     1      -4.542  -6.496   7.422  1.00  0.00          AR  \nATOM    139   Ar MOL     1      -5.761  -3.018 -14.421  1.00  0.00          AR  \nATOM    140   Ar MOL     1      -1.749  12.809  -3.682  1.00  0.00          AR  \nATOM    141   Ar MOL     1      -6.622  -7.710  -3.038  1.00  0.00          AR  \nATOM    142   Ar MOL     1       1.319  -5.623 -10.992  1.00  0.00          AR  \nATOM    143   Ar MOL     1      -7.411  15.496   0.169  1.00  0.00          AR  \nATOM    144   Ar MOL     1      11.811   6.851 -10.715  1.00  0.00          AR  \nATOM    145   Ar MOL     1       3.950  11.623 -15.711  1.00  0.00          AR  \nATOM    146   Ar MOL     1     -16.138  12.621  -7.915  1.00  0.00          AR  \nATOM    147   Ar MOL     1       8.237  -7.236   4.782  1.00  0.00          AR  \nATOM    148   Ar MOL     1     -10.217  10.811  -7.778  1.00  0.00          AR  \nATOM    149   Ar MOL     1      -4.652   4.195   8.552  1.00  0.00          AR  \nATOM    150   Ar MOL     1      -8.305  -6.545   2.443  1.00  0.00          AR  \nATOM    151   Ar MOL     1       0.109  -3.803  -5.072  1.00  0.00          AR  \nATOM    152   Ar MOL     1     -11.697   0.499  -5.419  1.00  0.00          AR  \nATOM    153   Ar MOL     1       2.053  -1.474   9.979  1.00  0.00          AR  \nATOM    154   Ar MOL     1      -5.984   3.037   2.451  1.00  0.00          AR  \nATOM    155   Ar MOL     1     -10.605   3.972  15.368  1.00  0.00          AR  \nATOM    156   Ar MOL     1       9.157   7.623   6.114  1.00  0.00          AR  \nATOM    157   Ar MOL     1      -9.432   8.707  -3.044  1.00  0.00          AR  \nATOM    158   Ar MOL     1      -4.425  16.138  -9.295  1.00  0.00          AR  \nATOM    159   Ar MOL     1       6.574  -7.879  -3.851  1.00  0.00          AR  \nATOM    160   Ar MOL     1       7.566   2.428  -4.876  1.00  0.00          AR  \nATOM    161   Ar MOL     1      -4.168   6.333  14.416  1.00  0.00          AR  \nATOM    162   Ar MOL     1      -2.598  -7.989 -12.310  1.00  0.00          AR  \nATOM    163   Ar MOL     1      16.153  14.718   5.059  1.00  0.00          AR  \nATOM    164   Ar MOL     1     -13.735  -8.114   6.016  1.00  0.00          AR  \nATOM    165   Ar MOL     1      -0.526   8.585  -7.516  1.00  0.00          AR  \nATOM    166   Ar MOL     1      -0.459  -1.191  11.371  1.00  0.00          AR  \nATOM    167   Ar MOL     1      -8.858 -12.576   2.222  1.00  0.00          AR  \nATOM    168   Ar MOL     1     -16.153  -8.215  -2.855  1.00  0.00          AR  \nATOM    169   Ar MOL     1       9.843 -10.093   2.772  1.00  0.00          AR  \nATOM    170   Ar MOL     1      10.744  -7.032  13.541  1.00  0.00          AR  \nATOM    171   Ar MOL     1     -13.181   9.595  -6.040  1.00  0.00          AR  \nATOM    172   Ar MOL     1      -0.458  -9.822   7.336  1.00  0.00          AR  \nATOM    173   Ar MOL     1      -4.435  10.008  -3.738  1.00  0.00          AR  \nATOM    174   Ar MOL     1       8.605  -9.851   5.584  1.00  0.00          AR  \nATOM    175   Ar MOL     1      -5.722   3.541  -0.834  1.00  0.00          AR  \nATOM    176   Ar MOL     1       9.088   2.636  -2.271  1.00  0.00          AR  \nATOM    177   Ar MOL     1      -6.746  -0.756  -5.047  1.00  0.00          AR  \nATOM    178   Ar MOL     1       7.275   7.697  -3.028  1.00  0.00          AR  \nATOM    179   Ar MOL     1      -1.116   0.811 -14.313  1.00  0.00          AR  \nATOM    180   Ar MOL     1      -4.533  -7.448   3.499  1.00  0.00          AR  \nATOM    181   Ar MOL     1     -12.982  12.280  -6.982  1.00  0.00          AR  \nATOM    182   Ar MOL     1       5.875  -5.200 -10.853  1.00  0.00          AR  \nATOM    183   Ar MOL     1       5.783  -4.618   3.006  1.00  0.00          AR  \nATOM    184   Ar MOL     1      -5.826   1.703  12.921  1.00  0.00          AR  \nATOM    185   Ar MOL     1     -11.489  13.288  -9.060  1.00  0.00          AR  \nATOM    186   Ar MOL     1      -2.661  11.398   3.132  1.00  0.00          AR  \nATOM    187   Ar MOL     1       9.697   4.201  -8.992  1.00  0.00          AR  \nATOM    188   Ar MOL     1       1.201  -9.029   9.985  1.00  0.00          AR  \nATOM    189   Ar MOL     1       5.508  15.757  -7.773  1.00  0.00          AR  \nATOM    190   Ar MOL     1      -3.401  -3.632  -7.687  1.00  0.00          AR  \nATOM    191   Ar MOL     1      -1.621 -10.951  -6.312  1.00  0.00          AR  \nATOM    192   Ar MOL     1      10.876  13.693 -16.139  1.00  0.00          AR  \nATOM    193   Ar MOL     1       4.371   5.714   5.457  1.00  0.00          AR  \nATOM    194   Ar MOL     1      -8.732  13.314   1.472  1.00  0.00          AR  \nATOM    195   Ar MOL     1     -16.140  -1.974 -13.495  1.00  0.00          AR  \nATOM    196   Ar MOL     1       3.062  -6.898  13.993  1.00  0.00          AR  \nATOM    197   Ar MOL     1       8.776  12.959   8.522  1.00  0.00          AR  \nATOM    198   Ar MOL     1      -6.088   4.538   6.232  1.00  0.00          AR  \nATOM    199   Ar MOL     1      -7.690  13.408  -2.230  1.00  0.00          AR  \nATOM    200   Ar MOL     1     -14.767 -13.220  14.491  1.00  0.00          AR  \nATOM    201   Ar MOL     1     -15.042 -15.490  -7.789  1.00  0.00          AR  \nATOM    202   Ar MOL     1      -9.352   6.985  15.787  1.00  0.00          AR  \nATOM    203   Ar MOL     1       5.342   6.480 -14.106  1.00  0.00          AR  \nATOM    204   Ar MOL     1     -13.509  -4.244 -13.316  1.00  0.00          AR  \nATOM    205   Ar MOL     1      10.424   8.667 -12.275  1.00  0.00          AR  \nATOM    206   Ar MOL     1      12.667  14.811  -1.272  1.00  0.00          AR  \nATOM    207   Ar MOL     1      -0.074  -9.059 -12.466  1.00  0.00          AR  \nATOM    208   Ar MOL     1      -6.804 -12.769 -14.766  1.00  0.00          AR  \nATOM    209   Ar MOL     1       3.252   8.719  -9.469  1.00  0.00          AR  \nATOM    210   Ar MOL     1     -10.197  11.469  -3.174  1.00  0.00          AR  \nATOM    211   Ar MOL     1      -0.045 -12.305  -8.180  1.00  0.00          AR  \nATOM    212   Ar MOL     1       0.828 -11.600 -13.003  1.00  0.00          AR  \nATOM    213   Ar MOL     1       7.615   4.913  -3.694  1.00  0.00          AR  \nATOM    214   Ar MOL     1       0.746  -6.474  -5.226  1.00  0.00          AR  \nATOM    215   Ar MOL     1       6.782  13.319  -7.775  1.00  0.00          AR  \nATOM    216   Ar MOL     1       9.723  11.584  -1.166  1.00  0.00          AR  \nATOM    217   Ar MOL     1       1.402   4.541  10.370  1.00  0.00          AR  \nATOM    218   Ar MOL     1       9.411 -12.360  10.603  1.00  0.00          AR  \nATOM    219   Ar MOL     1      -1.891  -4.257   2.042  1.00  0.00          AR  \nATOM    220   Ar MOL     1      15.077   1.999  11.300  1.00  0.00          AR  \nATOM    221   Ar MOL     1      -9.849   4.888  -9.052  1.00  0.00          AR  \nATOM    222   Ar MOL     1       9.220  -7.504   1.756  1.00  0.00          AR  \nATOM    223   Ar MOL     1      12.029  13.652 -13.631  1.00  0.00          AR  \nATOM    224   Ar MOL     1      13.149   2.647  -3.094  1.00  0.00          AR  \nATOM    225   Ar MOL     1      15.590  10.139   6.251  1.00  0.00          AR  \nATOM    226   Ar MOL     1      15.070   5.199  -3.772  1.00  0.00          AR  \nATOM    227   Ar MOL     1       8.244 -10.722 -13.543  1.00  0.00          AR  \nATOM    228   Ar MOL     1     -12.553  -3.830   9.705  1.00  0.00          AR  \nATOM    229   Ar MOL     1       7.549  16.060  -3.933  1.00  0.00          AR  \nATOM    230   Ar MOL     1     -14.384  -8.574  15.218  1.00  0.00          AR  \nATOM    231   Ar MOL     1     -15.520  14.307 -14.220  1.00  0.00          AR  \nATOM    232   Ar MOL     1     -10.020  -3.160   8.260  1.00  0.00          AR  \nATOM    233   Ar MOL     1       2.183  12.159  -0.981  1.00  0.00          AR  \nATOM    234   Ar MOL     1      11.210  -5.284 -15.451  1.00  0.00          AR  \nATOM    235   Ar MOL     1      -8.694  -6.827  -5.875  1.00  0.00          AR  \nATOM    236   Ar MOL     1      -2.082   9.105 -11.610  1.00  0.00          AR  \nATOM    237   Ar MOL     1      11.611  10.686  -8.445  1.00  0.00          AR  \nATOM    238   Ar MOL     1      -5.789 -14.598  -5.351  1.00  0.00          AR  \nATOM    239   Ar MOL     1      -8.930   8.290  -6.608  1.00  0.00          AR  \nATOM    240   Ar MOL     1      -6.176 -11.410   3.096  1.00  0.00          AR  \nATOM    241   Ar MOL     1      15.231   0.480   8.994  1.00  0.00          AR  \nATOM    242   Ar MOL     1     -14.013  -1.218 -11.928  1.00  0.00          AR  \nATOM    243   Ar MOL     1       4.283  -1.568  -5.867  1.00  0.00          AR  \nATOM    244   Ar MOL     1       2.703   8.889   3.190  1.00  0.00          AR  \nATOM    245   Ar MOL     1      -0.126 -13.863  -5.831  1.00  0.00          AR  \nATOM    246   Ar MOL     1      -4.604  -5.718  -2.118  1.00  0.00          AR  \nATOM    247   Ar MOL     1       6.031 -14.257  -6.829  1.00  0.00          AR  \nATOM    248   Ar MOL     1       2.320  -4.262  15.930  1.00  0.00          AR  \nATOM    249   Ar MOL     1      -0.016  -5.171  -0.367  1.00  0.00          AR  \nATOM    250   Ar MOL     1       9.592  -2.924  -3.400  1.00  0.00          AR  \nATOM    251   Ar MOL     1     -11.810 -10.206   9.822  1.00  0.00          AR  \nATOM    252   Ar MOL     1       4.413   2.135 -12.779  1.00  0.00          AR  \nATOM    253   Ar MOL     1       6.737   4.206 -13.412  1.00  0.00          AR  \nATOM    254   Ar MOL     1      13.827 -12.043  -8.016  1.00  0.00          AR  \nATOM    255   Ar MOL     1       6.565   8.209 -12.263  1.00  0.00          AR  \nATOM    256   Ar MOL     1       0.893 -12.173  -3.446  1.00  0.00          AR  \nATOM    257   Ar MOL     1     -13.910  14.707  -8.924  1.00  0.00          AR  \nATOM    258   Ar MOL     1      -5.635  -4.873  -6.280  1.00  0.00          AR  \nATOM    259   Ar MOL     1       5.881  10.069  -3.009  1.00  0.00          AR  \nATOM    260   Ar MOL     1       3.209  -6.152   4.119  1.00  0.00          AR  \nATOM    261   Ar MOL     1      -3.785  -1.323 -13.160  1.00  0.00          AR  \nATOM    262   Ar MOL     1      -0.396   6.659   5.700  1.00  0.00          AR  \nATOM    263   Ar MOL     1     -12.601  -0.720  15.948  1.00  0.00          AR  \nATOM    264   Ar MOL     1     -13.274 -15.555  12.877  1.00  0.00          AR  \nATOM    265   Ar MOL     1      12.482   4.536  -8.257  1.00  0.00          AR  \nATOM    266   Ar MOL     1      -3.369   5.599  -8.825  1.00  0.00          AR  \nATOM    267   Ar MOL     1      11.724   5.045 -16.139  1.00  0.00          AR  \nATOM    268   Ar MOL     1       4.107  12.394 -11.906  1.00  0.00          AR  \nATOM    269   Ar MOL     1       2.972   9.914  -3.118  1.00  0.00          AR  \nATOM    270   Ar MOL     1      13.408   7.376 -13.126  1.00  0.00          AR  \nATOM    271   Ar MOL     1      10.824  -0.500   7.908  1.00  0.00          AR  \nATOM    272   Ar MOL     1     -13.549  12.338 -10.861  1.00  0.00          AR  \nATOM    273   Ar MOL     1      -1.404 -12.851 -14.020  1.00  0.00          AR  \nATOM    274   Ar MOL     1       3.970 -12.481  15.364  1.00  0.00          AR  \nATOM    275   Ar MOL     1       0.452   9.960  -2.017  1.00  0.00          AR  \nATOM    276   Ar MOL     1      -7.997  10.360   2.205  1.00  0.00          AR  \nATOM    277   Ar MOL     1      -1.093 -12.657   6.162  1.00  0.00          AR  \nATOM    278   Ar MOL     1      -0.198  -2.409  -0.065  1.00  0.00          AR  \nATOM    279   Ar MOL     1      -2.516   8.696   8.912  1.00  0.00          AR  \nATOM    280   Ar MOL     1       3.712 -10.872  -3.026  1.00  0.00          AR  \nATOM    281   Ar MOL     1      -5.173  13.342   0.274  1.00  0.00          AR  \nATOM    282   Ar MOL     1     -15.249 -10.311  11.679  1.00  0.00          AR  \nATOM    283   Ar MOL     1       3.000  -2.744  -7.999  1.00  0.00          AR  \nATOM    284   Ar MOL     1     -12.192   9.581   2.956  1.00  0.00          AR  \nATOM    285   Ar MOL     1     -10.190  11.281   3.990  1.00  0.00          AR  \nATOM    286   Ar MOL     1      -8.664   6.128   6.716  1.00  0.00          AR  \nATOM    287   Ar MOL     1      -0.473  -6.335 -14.558  1.00  0.00          AR  \nATOM    288   Ar MOL     1      15.771 -13.763 -13.116  1.00  0.00          AR  \nATOM    289   Ar MOL     1      -0.422 -11.866   0.346  1.00  0.00          AR  \nATOM    290   Ar MOL     1     -16.211   9.671   0.225  1.00  0.00          AR  \nATOM    291   Ar MOL     1      14.615  10.964   2.079  1.00  0.00          AR  \nATOM    292   Ar MOL     1       0.002  -7.096  14.170  1.00  0.00          AR  \nATOM    293   Ar MOL     1      11.586 -15.292  -8.927  1.00  0.00          AR  \nATOM    294   Ar MOL     1       4.285  11.322  14.673  1.00  0.00          AR  \nATOM    295   Ar MOL     1     -13.570   9.857   0.646  1.00  0.00          AR  \nATOM    296   Ar MOL     1     -13.930 -12.810  11.337  1.00  0.00          AR  \nATOM    297   Ar MOL     1      12.881  11.979   0.187  1.00  0.00          AR  \nATOM    298   Ar MOL     1      16.152  -1.112   3.630  1.00  0.00          AR  \nATOM    299   Ar MOL     1      10.631  -3.383  -6.126  1.00  0.00          AR  \nATOM    300   Ar MOL     1     -12.376  -4.087  -4.505  1.00  0.00          AR  \nATOM    301   Ar MOL     1       4.105  -9.302  -9.035  1.00  0.00          AR  \nATOM    302   Ar MOL     1     -12.421  -4.640 -16.048  1.00  0.00          AR  \nATOM    303   Ar MOL     1      15.633  13.850  13.484  1.00  0.00          AR  \nATOM    304   Ar MOL     1      -5.073 -11.663   0.349  1.00  0.00          AR  \nATOM    305   Ar MOL     1      -2.189  -3.190  13.668  1.00  0.00          AR  \nATOM    306   Ar MOL     1      -6.428   0.204   8.989  1.00  0.00          AR  \nATOM    307   Ar MOL     1       3.304  -3.090 -14.315  1.00  0.00          AR  \nATOM    308   Ar MOL     1       6.032  -3.219  -8.144  1.00  0.00          AR  \nATOM    309   Ar MOL     1       0.222  -0.344   6.556  1.00  0.00          AR  \nATOM    310   Ar MOL     1      12.332 -11.378   2.141  1.00  0.00          AR  \nATOM    311   Ar MOL     1      -1.532   5.770   8.466  1.00  0.00          AR  \nATOM    312   Ar MOL     1      -9.788   7.467   9.294  1.00  0.00          AR  \nATOM    313   Ar MOL     1       1.923 -12.276 -10.415  1.00  0.00          AR  \nATOM    314   Ar MOL     1      -6.430  -1.322   5.399  1.00  0.00          AR  \nATOM    315   Ar MOL     1       9.935  -9.695  12.847  1.00  0.00          AR  \nATOM    316   Ar MOL     1       7.707  15.869 -10.125  1.00  0.00          AR  \nATOM    317   Ar MOL     1       1.798  16.239  -6.509  1.00  0.00          AR  \nATOM    318   Ar MOL     1      -2.570  11.917  -8.741  1.00  0.00          AR  \nATOM    319   Ar MOL     1      -6.103  -3.156  10.406  1.00  0.00          AR  \nATOM    320   Ar MOL     1      -1.805  -7.510   3.102  1.00  0.00          AR  \nATOM    321   Ar MOL     1     -14.302 -12.815   5.126  1.00  0.00          AR  \nATOM    322   Ar MOL     1       1.381 -15.069   9.721  1.00  0.00          AR  \nATOM    323   Ar MOL     1     -11.527  11.616   0.271  1.00  0.00          AR  \nATOM    324   Ar MOL     1       6.152   2.134  -8.627  1.00  0.00          AR  \nATOM    325   Ar MOL     1      -4.151 -13.697   6.715  1.00  0.00          AR  \nATOM    326   Ar MOL     1       3.552  -6.853 -12.309  1.00  0.00          AR  \nATOM    327   Ar MOL     1      15.016  -7.511  13.572  1.00  0.00          AR  \nATOM    328   Ar MOL     1      -9.622  -9.827  14.906  1.00  0.00          AR  \nATOM    329   Ar MOL     1     -10.520   9.567 -10.861  1.00  0.00          AR  \nATOM    330   Ar MOL     1     -11.232   7.112  13.398  1.00  0.00          AR  \nATOM    331   Ar MOL     1       9.902   4.676   9.051  1.00  0.00          AR  \nATOM    332   Ar MOL     1     -16.077  -9.901  -6.951  1.00  0.00          AR  \nATOM    333   Ar MOL     1      -4.247 -11.924  -6.861  1.00  0.00          AR  \nATOM    334   Ar MOL     1       7.458 -15.385   4.631  1.00  0.00          AR  \nATOM    335   Ar MOL     1     -10.833  -8.434  -7.769  1.00  0.00          AR  \nATOM    336   Ar MOL     1      -2.465 -14.728 -11.151  1.00  0.00          AR  \nATOM    337   Ar MOL     1       4.464 -11.536  -7.470  1.00  0.00          AR  \nATOM    338   Ar MOL     1     -14.645  -0.938   8.257  1.00  0.00          AR  \nATOM    339   Ar MOL     1      -1.795  -8.895  -0.474  1.00  0.00          AR  \nATOM    340   Ar MOL     1      13.444  14.323  11.462  1.00  0.00          AR  \nATOM    341   Ar MOL     1       5.728 -14.884 -12.551  1.00  0.00          AR  \nATOM    342   Ar MOL     1      14.656   3.829   7.969  1.00  0.00          AR  \nATOM    343   Ar MOL     1      14.950  -1.516  11.612  1.00  0.00          AR  \nATOM    344   Ar MOL     1      14.986 -14.070   0.093  1.00  0.00          AR  \nATOM    345   Ar MOL     1     -12.215  13.421  -4.062  1.00  0.00          AR  \nATOM    346   Ar MOL     1      -4.792   0.847   6.236  1.00  0.00          AR  \nATOM    347   Ar MOL     1      16.139   9.399  12.849  1.00  0.00          AR  \nATOM    348   Ar MOL     1       9.471  -9.112   9.966  1.00  0.00          AR  \nATOM    349   Ar MOL     1      -1.993  16.139  -8.011  1.00  0.00          AR  \nATOM    350   Ar MOL     1     -12.918   4.262  -9.836  1.00  0.00          AR  \nATOM    351   Ar MOL     1      -6.398  11.849 -16.160  1.00  0.00          AR  \nATOM    352   Ar MOL     1       0.920  -8.772   0.046  1.00  0.00          AR  \nATOM    353   Ar MOL     1       8.310  -6.064  -9.852  1.00  0.00          AR  \nATOM    354   Ar MOL     1     -13.829  15.042  -2.714  1.00  0.00          AR  \nATOM    355   Ar MOL     1     -10.562  -5.720   4.158  1.00  0.00          AR  \nATOM    356   Ar MOL     1      -1.751  -4.580   8.379  1.00  0.00          AR  \nATOM    357   Ar MOL     1     -13.886  15.506   1.531  1.00  0.00          AR  \nATOM    358   Ar MOL     1     -12.933   2.154   3.484  1.00  0.00          AR  \nATOM    359   Ar MOL     1      -5.843  13.511  -8.955  1.00  0.00          AR  \nATOM    360   Ar MOL     1     -13.542  -2.724  -6.762  1.00  0.00          AR  \nATOM    361   Ar MOL     1     -14.823  13.548  -4.683  1.00  0.00          AR  \nATOM    362   Ar MOL     1       4.350   8.334   0.247  1.00  0.00          AR  \nATOM    363   Ar MOL     1       0.107   9.267  14.186  1.00  0.00          AR  \nATOM    364   Ar MOL     1      -0.975  -9.247  -8.843  1.00  0.00          AR  \nATOM    365   Ar MOL     1      13.042   4.021  12.578  1.00  0.00          AR  \nATOM    366   Ar MOL     1      -1.946  14.330  10.736  1.00  0.00          AR  \nATOM    367   Ar MOL     1       9.255   7.689  -0.361  1.00  0.00          AR  \nATOM    368   Ar MOL     1      -6.244   4.710  13.630  1.00  0.00          AR  \nATOM    369   Ar MOL     1       6.921 -10.284  -7.942  1.00  0.00          AR  \nATOM    370   Ar MOL     1       4.908  -4.366  -0.373  1.00  0.00          AR  \nATOM    371   Ar MOL     1      -1.031   2.492  10.652  1.00  0.00          AR  \nATOM    372   Ar MOL     1      -3.710  14.993   3.339  1.00  0.00          AR  \nATOM    373   Ar MOL     1      12.179  -7.835  -0.109  1.00  0.00          AR  \nATOM    374   Ar MOL     1      12.459  -9.087  14.185  1.00  0.00          AR  \nATOM    375   Ar MOL     1     -10.774 -16.073   1.885  1.00  0.00          AR  \nATOM    376   Ar MOL     1      15.570  10.594  -4.926  1.00  0.00          AR  \nATOM    377   Ar MOL     1     -16.135 -11.890  -9.606  1.00  0.00          AR  \nATOM    378   Ar MOL     1      16.135  -8.549  -9.009  1.00  0.00          AR  \nATOM    379   Ar MOL     1      14.851 -12.293   3.447  1.00  0.00          AR  \nATOM    380   Ar MOL     1     -13.853 -11.721  -7.833  1.00  0.00          AR  \nATOM    381   Ar MOL     1     -16.041   1.118 -13.436  1.00  0.00          AR  \nATOM    382   Ar MOL     1      -8.215  10.757  -5.243  1.00  0.00          AR  \nATOM    383   Ar MOL     1       7.011 -14.366  11.012  1.00  0.00          AR  \nATOM    384   Ar MOL     1      -8.898   2.972 -14.643  1.00  0.00          AR  \nATOM    385   Ar MOL     1      -8.143  -1.211 -16.072  1.00  0.00          AR  \nATOM    386   Ar MOL     1     -16.067  -7.285  -9.264  1.00  0.00          AR  \nATOM    387   Ar MOL     1      14.722   5.692 -11.075  1.00  0.00          AR  \nATOM    388   Ar MOL     1     -13.245 -13.861  -9.695  1.00  0.00          AR  \nATOM    389   Ar MOL     1      11.114 -12.210   4.588  1.00  0.00          AR  \nATOM    390   Ar MOL     1     -16.139   8.485  -8.274  1.00  0.00          AR  \nATOM    391   Ar MOL     1      -8.578   3.511   1.450  1.00  0.00          AR  \nATOM    392   Ar MOL     1      -6.281   4.876 -14.638  1.00  0.00          AR  \nATOM    393   Ar MOL     1      -9.615 -16.142  -5.309  1.00  0.00          AR  \nATOM    394   Ar MOL     1      14.570  -1.333 -14.144  1.00  0.00          AR  \nATOM    395   Ar MOL     1      -9.032  12.594 -10.562  1.00  0.00          AR  \nATOM    396   Ar MOL     1      14.661  15.534  16.137  1.00  0.00          AR  \nATOM    397   Ar MOL     1      -2.253   6.451  11.630  1.00  0.00          AR  \nATOM    398   Ar MOL     1      12.766   5.320   4.255  1.00  0.00          AR  \nATOM    399   Ar MOL     1      -7.990   3.183  11.933  1.00  0.00          AR  \nATOM    400   Ar MOL     1       4.096 -15.238   3.826  1.00  0.00          AR  \nATOM    401   Ar MOL     1      -9.240  -4.436  -4.128  1.00  0.00          AR  \nATOM    402   Ar MOL     1      -3.329  -1.073  11.678  1.00  0.00          AR  \nATOM    403   Ar MOL     1      -6.803  -4.580   6.282  1.00  0.00          AR  \nATOM    404   Ar MOL     1      -6.261   5.780  -8.368  1.00  0.00          AR  \nATOM    405   Ar MOL     1     -10.484  14.291  -1.045  1.00  0.00          AR  \nATOM    406   Ar MOL     1     -11.327   1.194 -15.168  1.00  0.00          AR  \nATOM    407   Ar MOL     1       9.949  -9.774  -7.026  1.00  0.00          AR  \nATOM    408   Ar MOL     1     -10.491  12.045   8.531  1.00  0.00          AR  \nATOM    409   Ar MOL     1      -5.008  13.399   5.556  1.00  0.00          AR  \nATOM    410   Ar MOL     1     -13.727  -1.445  13.546  1.00  0.00          AR  \nATOM    411   Ar MOL     1      -1.611   4.215   3.367  1.00  0.00          AR  \nATOM    412   Ar MOL     1      -8.733   0.302  10.682  1.00  0.00          AR  \nATOM    413   Ar MOL     1     -11.112  -8.427 -14.119  1.00  0.00          AR  \nATOM    414   Ar MOL     1      15.181  -9.235  -4.808  1.00  0.00          AR  \nATOM    415   Ar MOL     1       2.776   7.319  -4.493  1.00  0.00          AR  \nATOM    416   Ar MOL     1      -2.020  13.556  -0.912  1.00  0.00          AR  \nATOM    417   Ar MOL     1       4.886   5.912  -3.028  1.00  0.00          AR  \nATOM    418   Ar MOL     1      -9.086  -6.993 -15.544  1.00  0.00          AR  \nATOM    419   Ar MOL     1      -0.826 -13.777  15.898  1.00  0.00          AR  \nATOM    420   Ar MOL     1     -11.325 -12.073   4.547  1.00  0.00          AR  \nATOM    421   Ar MOL     1       6.701  11.568   6.651  1.00  0.00          AR  \nATOM    422   Ar MOL     1      15.412   6.933  11.874  1.00  0.00          AR  \nATOM    423   Ar MOL     1       8.732   9.053   2.734  1.00  0.00          AR  \nATOM    424   Ar MOL     1      12.683   1.017 -13.482  1.00  0.00          AR  \nATOM    425   Ar MOL     1      -4.700  -3.428 -10.814  1.00  0.00          AR  \nATOM    426   Ar MOL     1     -16.139  -3.628   8.938  1.00  0.00          AR  \nATOM    427   Ar MOL     1       8.271  -0.853   6.948  1.00  0.00          AR  \nATOM    428   Ar MOL     1      15.800  -8.899  -0.018  1.00  0.00          AR  \nATOM    429   Ar MOL     1       1.022  14.481  -4.626  1.00  0.00          AR  \nATOM    430   Ar MOL     1      14.376 -11.245  -1.735  1.00  0.00          AR  \nATOM    431   Ar MOL     1       4.487  -0.387  -8.344  1.00  0.00          AR  \nATOM    432   Ar MOL     1       2.344   5.390  -1.600  1.00  0.00          AR  \nATOM    433   Ar MOL     1      15.045  11.680  11.771  1.00  0.00          AR  \nATOM    434   Ar MOL     1      15.967   1.966   5.428  1.00  0.00          AR  \nATOM    435   Ar MOL     1      13.586  14.020   5.745  1.00  0.00          AR  \nATOM    436   Ar MOL     1      -0.734   3.638  -8.447  1.00  0.00          AR  \nATOM    437   Ar MOL     1      16.124  -9.980   6.333  1.00  0.00          AR  \nATOM    438   Ar MOL     1     -12.742  12.047  12.813  1.00  0.00          AR  \nATOM    439   Ar MOL     1      13.070 -15.408  15.682  1.00  0.00          AR  \nATOM    440   Ar MOL     1      12.596  -6.643  11.268  1.00  0.00          AR  \nATOM    441   Ar MOL     1      -1.100   1.540  -6.482  1.00  0.00          AR  \nATOM    442   Ar MOL     1      11.396   4.821  -2.897  1.00  0.00          AR  \nATOM    443   Ar MOL     1     -15.169  -3.589  -1.831  1.00  0.00          AR  \nATOM    444   Ar MOL     1      -6.449  -6.555  -8.576  1.00  0.00          AR  \nATOM    445   Ar MOL     1       4.346   6.319   2.447  1.00  0.00          AR  \nATOM    446   Ar MOL     1      15.176  -4.884  -8.236  1.00  0.00          AR  \nATOM    447   Ar MOL     1       0.066   7.035  -3.494  1.00  0.00          AR  \nATOM    448   Ar MOL     1      -8.856   5.239 -11.593  1.00  0.00          AR  \nATOM    449   Ar MOL     1      -4.450 -12.674  -3.262  1.00  0.00          AR  \nATOM    450   Ar MOL     1       8.393  14.235 -14.180  1.00  0.00          AR  \nATOM    451   Ar MOL     1       4.440   5.955  11.981  1.00  0.00          AR  \nATOM    452   Ar MOL     1       3.360 -15.541 -10.217  1.00  0.00          AR  \nATOM    453   Ar MOL     1      -0.404  14.523  13.532  1.00  0.00          AR  \nATOM    454   Ar MOL     1      16.130   6.533 -14.939  1.00  0.00          AR  \nATOM    455   Ar MOL     1       1.083   1.592  -8.160  1.00  0.00          AR  \nATOM    456   Ar MOL     1      -2.839  -3.761  -3.525  1.00  0.00          AR  \nATOM    457   Ar MOL     1       3.500  -0.247 -16.140  1.00  0.00          AR  \nATOM    458   Ar MOL     1      -6.707 -14.586   8.011  1.00  0.00          AR  \nATOM    459   Ar MOL     1     -13.018 -10.512   2.902  1.00  0.00          AR  \nATOM    460   Ar MOL     1       7.505  12.442   4.130  1.00  0.00          AR  \nATOM    461   Ar MOL     1      -4.251  13.683  12.092  1.00  0.00          AR  \nATOM    462   Ar MOL     1       2.038  11.840  12.653  1.00  0.00          AR  \nATOM    463   Ar MOL     1      15.713  12.280   8.304  1.00  0.00          AR  \nATOM    464   Ar MOL     1     -11.296  -2.640  -2.004  1.00  0.00          AR  \nATOM    465   Ar MOL     1      -4.297   8.300 -10.176  1.00  0.00          AR  \nATOM    466   Ar MOL     1       6.746   3.626   4.058  1.00  0.00          AR  \nATOM    467   Ar MOL     1     -10.181 -13.610  -1.783  1.00  0.00          AR  \nATOM    468   Ar MOL     1       6.894  -9.541   2.546  1.00  0.00          AR  \nATOM    469   Ar MOL     1       8.920  11.319  -7.898  1.00  0.00          AR  \nATOM    470   Ar MOL     1      11.653   6.435   0.135  1.00  0.00          AR  \nATOM    471   Ar MOL     1       5.063  11.587   8.861  1.00  0.00          AR  \nATOM    472   Ar MOL     1      16.144  -3.745   8.927  1.00  0.00          AR  \nATOM    473   Ar MOL     1      -4.068  -5.271  10.089  1.00  0.00          AR  \nATOM    474   Ar MOL     1      11.353 -13.132  -3.871  1.00  0.00          AR  \nATOM    475   Ar MOL     1      -0.784 -11.038  11.495  1.00  0.00          AR  \nATOM    476   Ar MOL     1      11.401   7.613   9.891  1.00  0.00          AR  \nATOM    477   Ar MOL     1      -1.307  -5.132  11.046  1.00  0.00          AR  \nATOM    478   Ar MOL     1     -16.139   8.281  -2.536  1.00  0.00          AR  \nATOM    479   Ar MOL     1      12.144  13.668  -8.371  1.00  0.00          AR  \nATOM    480   Ar MOL     1      14.596  -1.130  -3.230  1.00  0.00          AR  \nATOM    481   Ar MOL     1       7.033   8.388  11.422  1.00  0.00          AR  \nATOM    482   Ar MOL     1     -11.691  11.312 -13.292  1.00  0.00          AR  \nATOM    483   Ar MOL     1      -8.516  13.426 -15.108  1.00  0.00          AR  \nATOM    484   Ar MOL     1       1.786   9.128   8.470  1.00  0.00          AR  \nATOM    485   Ar MOL     1      12.585 -11.721   8.927  1.00  0.00          AR  \nATOM    486   Ar MOL     1      -1.481   1.103  15.107  1.00  0.00          AR  \nATOM    487   Ar MOL     1     -12.895  16.138  -6.036  1.00  0.00          AR  \nATOM    488   Ar MOL     1      12.354  -5.904 -10.258  1.00  0.00          AR  \nATOM    489   Ar MOL     1      16.139   6.318  -1.473  1.00  0.00          AR  \nATOM    490   Ar MOL     1       3.202 -13.568 -14.106  1.00  0.00          AR  \nATOM    491   Ar MOL     1      13.617  -8.479  -2.364  1.00  0.00          AR  \nATOM    492   Ar MOL     1      -5.810 -10.012  16.141  1.00  0.00          AR  \nATOM    493   Ar MOL     1     -12.187 -13.690   0.677  1.00  0.00          AR  \nATOM    494   Ar MOL     1      -7.573 -16.139  -3.467  1.00  0.00          AR  \nATOM    495   Ar MOL     1      10.568   3.653   5.701  1.00  0.00          AR  \nATOM    496   Ar MOL     1       9.575   8.807  -8.809  1.00  0.00          AR  \nATOM    497   Ar MOL     1      13.946  -8.993   2.173  1.00  0.00          AR  \nATOM    498   Ar MOL     1     -12.010 -15.245  -7.273  1.00  0.00          AR  \nATOM    499   Ar MOL     1      -6.071   9.882   8.906  1.00  0.00          AR  \nATOM    500   Ar MOL     1       4.781   3.824   1.381  1.00  0.00          AR  \nATOM    501   Ar MOL     1      -5.879 -12.359  14.687  1.00  0.00          AR  \nATOM    502   Ar MOL     1     -11.512   3.213  -6.805  1.00  0.00          AR  \nATOM    503   Ar MOL     1       7.868  12.057   1.361  1.00  0.00          AR  \nATOM    504   Ar MOL     1      16.173 -13.461  13.254  1.00  0.00          AR  \nATOM    505   Ar MOL     1       7.102  15.784   0.224  1.00  0.00          AR  \nATOM    506   Ar MOL     1      -7.349  -4.851 -11.062  1.00  0.00          AR  \nATOM    507   Ar MOL     1       6.777  -8.942 -10.740  1.00  0.00          AR  \nATOM    508   Ar MOL     1      -2.054  -5.819  -5.437  1.00  0.00          AR  \nATOM    509   Ar MOL     1     -10.127  14.148  13.539  1.00  0.00          AR  \nATOM    510   Ar MOL     1       3.315   9.086  12.080  1.00  0.00          AR  \nATOM    511   Ar MOL     1      -2.604  -8.413   6.350  1.00  0.00          AR  \nATOM    512   Ar MOL     1      12.985  10.760  -3.495  1.00  0.00          AR  \nATOM    513   Ar MOL     1      13.503  -7.569   4.860  1.00  0.00          AR  \nATOM    514   Ar MOL     1      11.822   9.089 -14.624  1.00  0.00          AR  \nATOM    515   Ar MOL     1       7.656   9.043   8.036  1.00  0.00          AR  \nATOM    516   Ar MOL     1       7.942  -8.836  -1.661  1.00  0.00          AR  \nATOM    517   Ar MOL     1      -2.682 -15.873   7.858  1.00  0.00          AR  \nATOM    518   Ar MOL     1       0.773   4.790  -6.041  1.00  0.00          AR  \nATOM    519   Ar MOL     1     -11.742  11.217  16.068  1.00  0.00          AR  \nATOM    520   Ar MOL     1     -11.802  12.297 -16.139  1.00  0.00          AR  \nATOM    521   Ar MOL     1      -2.440 -13.864  -7.631  1.00  0.00          AR  \nATOM    522   Ar MOL     1       7.522  10.667  14.349  1.00  0.00          AR  \nATOM    523   Ar MOL     1      -0.273  15.167   6.907  1.00  0.00          AR  \nATOM    524   Ar MOL     1     -10.756   0.758  -2.112  1.00  0.00          AR  \nATOM    525   Ar MOL     1       6.529 -11.899  14.328  1.00  0.00          AR  \nATOM    526   Ar MOL     1       1.729  12.351   8.419  1.00  0.00          AR  \nATOM    527   Ar MOL     1      11.658  12.076  12.287  1.00  0.00          AR  \nATOM    528   Ar MOL     1       4.093 -10.291   9.243  1.00  0.00          AR  \nATOM    529   Ar MOL     1       4.470 -10.315 -12.038  1.00  0.00          AR  \nATOM    530   Ar MOL     1      -7.391   8.505   4.249  1.00  0.00          AR  \nATOM    531   Ar MOL     1     -16.074  -0.063 -10.418  1.00  0.00          AR  \nATOM    532   Ar MOL     1       4.362  -7.444   8.171  1.00  0.00          AR  \nATOM    533   Ar MOL     1       1.711  12.751   2.337  1.00  0.00          AR  \nATOM    534   Ar MOL     1      12.443   8.450  13.094  1.00  0.00          AR  \nATOM    535   Ar MOL     1     -10.257 -15.042 -10.754  1.00  0.00          AR  \nATOM    536   Ar MOL     1      13.644  -1.463   4.702  1.00  0.00          AR  \nATOM    537   Ar MOL     1       6.556   7.651  -8.437  1.00  0.00          AR  \nATOM    538   Ar MOL     1       7.198   2.147   9.638  1.00  0.00          AR  \nATOM    539   Ar MOL     1       6.878 -15.550  13.491  1.00  0.00          AR  \nATOM    540   Ar MOL     1     -10.607   7.247 -13.094  1.00  0.00          AR  \nATOM    541   Ar MOL     1      -5.703  10.293   6.210  1.00  0.00          AR  \nATOM    542   Ar MOL     1      14.709 -11.511  12.008  1.00  0.00          AR  \nATOM    543   Ar MOL     1       2.897  -4.267   8.699  1.00  0.00          AR  \nATOM    544   Ar MOL     1      -6.328   0.045   1.404  1.00  0.00          AR  \nATOM    545   Ar MOL     1     -15.865 -15.340   4.209  1.00  0.00          AR  \nATOM    546   Ar MOL     1     -12.736  14.622  16.036  1.00  0.00          AR  \nATOM    547   Ar MOL     1       7.011  -3.669   8.162  1.00  0.00          AR  \nATOM    548   Ar MOL     1      15.311   8.672 -11.176  1.00  0.00          AR  \nATOM    549   Ar MOL     1      -5.633   0.464  -8.153  1.00  0.00          AR  \nATOM    550   Ar MOL     1     -14.720  -5.388  11.340  1.00  0.00          AR  \nATOM    551   Ar MOL     1      -7.963  -7.440 -12.304  1.00  0.00          AR  \nATOM    552   Ar MOL     1      -1.233 -14.416   1.343  1.00  0.00          AR  \nATOM    553   Ar MOL     1      -6.385   9.129 -13.323  1.00  0.00          AR  \nATOM    554   Ar MOL     1      -2.467  -0.338   7.159  1.00  0.00          AR  \nATOM    555   Ar MOL     1       8.284 -16.138 -14.908  1.00  0.00          AR  \nATOM    556   Ar MOL     1     -10.164  11.553  11.602  1.00  0.00          AR  \nATOM    557   Ar MOL     1       2.372  14.163 -13.318  1.00  0.00          AR  \nATOM    558   Ar MOL     1      13.035   9.316  -5.885  1.00  0.00          AR  \nATOM    559   Ar MOL     1       6.279  -7.235   0.308  1.00  0.00          AR  \nATOM    560   Ar MOL     1     -15.204  11.771  11.617  1.00  0.00          AR  \nATOM    561   Ar MOL     1      -8.351 -14.796  -7.371  1.00  0.00          AR  \nATOM    562   Ar MOL     1     -15.357  -5.274   5.659  1.00  0.00          AR  \nATOM    563   Ar MOL     1       6.409 -10.831  11.447  1.00  0.00          AR  \nATOM    564   Ar MOL     1     -10.694 -10.659   1.156  1.00  0.00          AR  \nATOM    565   Ar MOL     1       1.881  12.779  15.714  1.00  0.00          AR  \nATOM    566   Ar MOL     1     -11.651  14.159   5.618  1.00  0.00          AR  \nATOM    567   Ar MOL     1     -12.410  -4.084  12.990  1.00  0.00          AR  \nATOM    568   Ar MOL     1     -15.495  -5.723  14.072  1.00  0.00          AR  \nATOM    569   Ar MOL     1       0.394   3.858   7.417  1.00  0.00          AR  \nATOM    570   Ar MOL     1       1.687 -13.902   6.047  1.00  0.00          AR  \nATOM    571   Ar MOL     1     -14.592  16.139   9.122  1.00  0.00          AR  \nATOM    572   Ar MOL     1     -15.616  10.154 -11.233  1.00  0.00          AR  \nATOM    573   Ar MOL     1      -5.153  -0.478 -10.926  1.00  0.00          AR  \nATOM    574   Ar MOL     1      16.139  14.037  10.579  1.00  0.00          AR  \nATOM    575   Ar MOL     1      -8.445   2.632   8.121  1.00  0.00          AR  \nATOM    576   Ar MOL     1      15.416   1.572 -11.983  1.00  0.00          AR  \nATOM    577   Ar MOL     1      -2.578  -4.196 -12.387  1.00  0.00          AR  \nATOM    578   Ar MOL     1       9.715  13.695   3.074  1.00  0.00          AR  \nATOM    579   Ar MOL     1      -8.424   6.352  12.451  1.00  0.00          AR  \nATOM    580   Ar MOL     1      12.373  -3.050   2.678  1.00  0.00          AR  \nATOM    581   Ar MOL     1      -8.036  13.570   4.275  1.00  0.00          AR  \nATOM    582   Ar MOL     1      -6.526 -10.216  10.324  1.00  0.00          AR  \nATOM    583   Ar MOL     1     -13.414   9.282  -9.204  1.00  0.00          AR  \nATOM    584   Ar MOL     1       4.924   0.958   3.220  1.00  0.00          AR  \nATOM    585   Ar MOL     1      -1.718  11.781 -13.704  1.00  0.00          AR  \nATOM    586   Ar MOL     1       3.103   3.870 -15.941  1.00  0.00          AR  \nATOM    587   Ar MOL     1       6.806  13.667  11.462  1.00  0.00          AR  \nATOM    588   Ar MOL     1      -1.190  11.307  12.162  1.00  0.00          AR  \nATOM    589   Ar MOL     1       2.066   3.399   1.145  1.00  0.00          AR  \nATOM    590   Ar MOL     1      12.427   4.240 -12.714  1.00  0.00          AR  \nATOM    591   Ar MOL     1       2.823   5.338 -10.811  1.00  0.00          AR  \nATOM    592   Ar MOL     1       5.545   0.208  -3.300  1.00  0.00          AR  \nATOM    593   Ar MOL     1       2.669 -12.799  -1.357  1.00  0.00          AR  \nATOM    594   Ar MOL     1       9.162  11.977  -4.727  1.00  0.00          AR  \nATOM    595   Ar MOL     1      -0.239 -15.040  11.943  1.00  0.00          AR  \nATOM    596   Ar MOL     1      -1.007  16.136 -13.505  1.00  0.00          AR  \nATOM    597   Ar MOL     1     -10.911 -12.577   7.754  1.00  0.00          AR  \nATOM    598   Ar MOL     1      -4.544 -13.537   3.847  1.00  0.00          AR  \nATOM    599   Ar MOL     1      -3.925 -15.140 -14.609  1.00  0.00          AR  \nATOM    600   Ar MOL     1      13.978  -5.955   7.569  1.00  0.00          AR  \nATOM    601   Ar MOL     1      14.067  -5.636  -2.228  1.00  0.00          AR  \nATOM    602   Ar MOL     1     -10.369  16.101   1.194  1.00  0.00          AR  \nATOM    603   Ar MOL     1       8.009  -3.875   0.429  1.00  0.00          AR  \nATOM    604   Ar MOL     1     -15.093   5.412  -8.608  1.00  0.00          AR  \nATOM    605   Ar MOL     1       7.597  -7.286  -6.428  1.00  0.00          AR  \nATOM    606   Ar MOL     1      10.325  12.866 -10.814  1.00  0.00          AR  \nATOM    607   Ar MOL     1      -0.954   6.534 -10.341  1.00  0.00          AR  \nATOM    608   Ar MOL     1      15.904   6.953  -8.837  1.00  0.00          AR  \nATOM    609   Ar MOL     1      16.139   4.486 -13.100  1.00  0.00          AR  \nATOM    610   Ar MOL     1     -14.521  16.133 -11.232  1.00  0.00          AR  \nATOM    611   Ar MOL     1      -6.806  -9.678  -9.761  1.00  0.00          AR  \nATOM    612   Ar MOL     1       4.271 -13.398  10.643  1.00  0.00          AR  \nATOM    613   Ar MOL     1      15.141  12.567  -1.632  1.00  0.00          AR  \nATOM    614   Ar MOL     1     -10.145  -1.935  11.492  1.00  0.00          AR  \nATOM    615   Ar MOL     1     -16.138  -5.378   2.312  1.00  0.00          AR  \nATOM    616   Ar MOL     1       2.320 -11.446  12.017  1.00  0.00          AR  \nATOM    617   Ar MOL     1      15.840  11.760 -15.977  1.00  0.00          AR  \nATOM    618   Ar MOL     1      -3.707  -6.647  -7.477  1.00  0.00          AR  \nATOM    619   Ar MOL     1      -7.996  15.632  -9.068  1.00  0.00          AR  \nATOM    620   Ar MOL     1       2.029  13.346   5.873  1.00  0.00          AR  \nATOM    621   Ar MOL     1      11.234  -3.212   8.767  1.00  0.00          AR  \nATOM    622   Ar MOL     1       0.265 -15.688  -3.078  1.00  0.00          AR  \nATOM    623   Ar MOL     1      -3.101 -11.153  -9.276  1.00  0.00          AR  \nATOM    624   Ar MOL     1       4.431  13.109   3.527  1.00  0.00          AR  \nATOM    625   Ar MOL     1       8.358  -5.880  11.322  1.00  0.00          AR  \nATOM    626   Ar MOL     1      -3.910  -3.031  15.807  1.00  0.00          AR  \nATOM    627   Ar MOL     1      11.734   9.551  -1.032  1.00  0.00          AR  \nATOM    628   Ar MOL     1       6.085 -11.413  -0.609  1.00  0.00          AR  \nATOM    629   Ar MOL     1       5.029 -14.712  -2.315  1.00  0.00          AR  \nATOM    630   Ar MOL     1       3.796  -3.399 -10.708  1.00  0.00          AR  \nATOM    631   Ar MOL     1       3.793  -8.676   2.199  1.00  0.00          AR  \nATOM    632   Ar MOL     1       6.572  -3.683 -15.925  1.00  0.00          AR  \nATOM    633   Ar MOL     1       2.921   5.401   7.776  1.00  0.00          AR  \nATOM    634   Ar MOL     1       3.039   0.963 -10.254  1.00  0.00          AR  \nATOM    635   Ar MOL     1     -16.138   6.687 -16.130  1.00  0.00          AR  \nATOM    636   Ar MOL     1       3.312   3.131   6.011  1.00  0.00          AR  \nATOM    637   Ar MOL     1      -8.610 -11.251  -1.911  1.00  0.00          AR  \nATOM    638   Ar MOL     1      14.958  -6.122   2.252  1.00  0.00          AR  \nATOM    639   Ar MOL     1      10.450  -1.905  -0.085  1.00  0.00          AR  \nATOM    640   Ar MOL     1       5.679 -15.975  -4.711  1.00  0.00          AR  \nATOM    641   Ar MOL     1       1.257   0.835   2.577  1.00  0.00          AR  \nATOM    642   Ar MOL     1     -13.991  -2.407 -15.854  1.00  0.00          AR  \nATOM    643   Ar MOL     1      -1.712 -10.876   3.932  1.00  0.00          AR  \nATOM    644   Ar MOL     1      -3.864  -5.202   5.028  1.00  0.00          AR  \nATOM    645   Ar MOL     1       4.989   8.064  14.008  1.00  0.00          AR  \nATOM    646   Ar MOL     1       1.714   2.788  -3.182  1.00  0.00          AR  \nATOM    647   Ar MOL     1      -4.811 -10.195  -4.788  1.00  0.00          AR  \nATOM    648   Ar MOL     1       4.670  15.399  12.712  1.00  0.00          AR  \nATOM    649   Ar MOL     1     -11.283   0.649 -12.223  1.00  0.00          AR  \nATOM    650   Ar MOL     1     -10.763   3.915   3.200  1.00  0.00          AR  \nATOM    651   Ar MOL     1       1.350  10.543 -10.257  1.00  0.00          AR  \nATOM    652   Ar MOL     1     -13.467   9.140 -13.038  1.00  0.00          AR  \nATOM    653   Ar MOL     1       9.298   3.369 -12.800  1.00  0.00          AR  \nATOM    654   Ar MOL     1     -16.086  13.983   3.039  1.00  0.00          AR  \nATOM    655   Ar MOL     1      12.223  10.810   9.751  1.00  0.00          AR  \nATOM    656   Ar MOL     1      -7.099   4.646   9.773  1.00  0.00          AR  \nATOM    657   Ar MOL     1      -8.396   7.048 -16.051  1.00  0.00          AR  \nATOM    658   Ar MOL     1     -15.616  10.862  -5.862  1.00  0.00          AR  \nATOM    659   Ar MOL     1       4.589 -10.852   4.122  1.00  0.00          AR  \nATOM    660   Ar MOL     1       0.981  16.009 -15.838  1.00  0.00          AR  \nATOM    661   Ar MOL     1      -8.838 -11.414  -7.095  1.00  0.00          AR  \nATOM    662   Ar MOL     1      10.986 -12.568 -11.209  1.00  0.00          AR  \nATOM    663   Ar MOL     1     -15.808  11.112  -2.087  1.00  0.00          AR  \nATOM    664   Ar MOL     1       6.039  -5.247  14.248  1.00  0.00          AR  \nATOM    665   Ar MOL     1     -10.781  -8.763 -11.267  1.00  0.00          AR  \nATOM    666   Ar MOL     1       3.071  -7.100  10.577  1.00  0.00          AR  \nATOM    667   Ar MOL     1      12.313 -15.589   0.117  1.00  0.00          AR  \nATOM    668   Ar MOL     1      -3.792  -7.142   0.754  1.00  0.00          AR  \nATOM    669   Ar MOL     1       2.304  -9.778  -5.155  1.00  0.00          AR  \nATOM    670   Ar MOL     1      -3.914 -16.139  -7.072  1.00  0.00          AR  \nATOM    671   Ar MOL     1       2.756  -2.113  -3.328  1.00  0.00          AR  \nATOM    672   Ar MOL     1      -7.479   8.521  10.845  1.00  0.00          AR  \nATOM    673   Ar MOL     1      -6.874 -14.272   0.498  1.00  0.00          AR  \nATOM    674   Ar MOL     1     -11.734  -5.193   1.563  1.00  0.00          AR  \nATOM    675   Ar MOL     1      -8.807  -9.044   8.340  1.00  0.00          AR  \nATOM    676   Ar MOL     1     -16.194  -0.772 -15.970  1.00  0.00          AR  \nATOM    677   Ar MOL     1      -8.254  15.997  -3.774  1.00  0.00          AR  \nATOM    678   Ar MOL     1       2.822   2.748  -6.234  1.00  0.00          AR  \nATOM    679   Ar MOL     1       0.277 -16.139   4.344  1.00  0.00          AR  \nATOM    680   Ar MOL     1     -14.773 -12.498   1.065  1.00  0.00          AR  \nATOM    681   Ar MOL     1      -7.619  -9.621  -4.816  1.00  0.00          AR  \nATOM    682   Ar MOL     1      -2.191   5.521 -13.418  1.00  0.00          AR  \nATOM    683   Ar MOL     1      -8.931 -14.349   9.926  1.00  0.00          AR  \nATOM    684   Ar MOL     1      -4.331  -9.060  11.599  1.00  0.00          AR  \nATOM    685   Ar MOL     1      11.789 -12.848  -0.666  1.00  0.00          AR  \nATOM    686   Ar MOL     1      13.628 -16.060  -3.235  1.00  0.00          AR  \nATOM    687   Ar MOL     1      -6.934  -8.748  13.605  1.00  0.00          AR  \nATOM    688   Ar MOL     1      12.136  15.320   3.349  1.00  0.00          AR  \nATOM    689   Ar MOL     1     -15.896  13.565   8.801  1.00  0.00          AR  \nATOM    690   Ar MOL     1       4.375   8.003   9.543  1.00  0.00          AR  \nATOM    691   Ar MOL     1      -4.433  11.999 -13.295  1.00  0.00          AR  \nATOM    692   Ar MOL     1       8.109   0.128  -0.788  1.00  0.00          AR  \nATOM    693   Ar MOL     1      11.991  -4.397  -3.737  1.00  0.00          AR  \nATOM    694   Ar MOL     1      11.553  -5.641   1.894  1.00  0.00          AR  \nATOM    695   Ar MOL     1       5.524  11.782  -5.296  1.00  0.00          AR  \nATOM    696   Ar MOL     1     -10.410  -0.042   6.823  1.00  0.00          AR  \nATOM    697   Ar MOL     1       0.846  -3.300 -15.635  1.00  0.00          AR  \nATOM    698   Ar MOL     1      -5.332   6.742  10.420  1.00  0.00          AR  \nATOM    699   Ar MOL     1     -11.753  16.140   3.713  1.00  0.00          AR  \nATOM    700   Ar MOL     1       9.861   4.712   2.607  1.00  0.00          AR  \nATOM    701   Ar MOL     1      -9.494   2.660 -10.803  1.00  0.00          AR  \nATOM    702   Ar MOL     1       8.402   0.495  -7.348  1.00  0.00          AR  \nATOM    703   Ar MOL     1     -16.137  -4.612 -15.625  1.00  0.00          AR  \nATOM    704   Ar MOL     1     -16.143   0.445  11.398  1.00  0.00          AR  \nATOM    705   Ar MOL     1     -10.491  -8.728   5.688  1.00  0.00          AR  \nATOM    706   Ar MOL     1      -0.655  16.064   1.993  1.00  0.00          AR  \nATOM    707   Ar MOL     1      -4.313  -9.341  -1.985  1.00  0.00          AR  \nATOM    708   Ar MOL     1       0.848  -5.014  -7.555  1.00  0.00          AR  \nATOM    709   Ar MOL     1       5.181  11.616   0.975  1.00  0.00          AR  \nATOM    710   Ar MOL     1       8.593   5.037  -1.022  1.00  0.00          AR  \nATOM    711   Ar MOL     1       2.257 -11.512   7.285  1.00  0.00          AR  \nATOM    712   Ar MOL     1      -5.224 -14.551  -9.544  1.00  0.00          AR  \nATOM    713   Ar MOL     1      -7.314  14.164 -12.028  1.00  0.00          AR  \nATOM    714   Ar MOL     1       0.763   7.919   0.663  1.00  0.00          AR  \nATOM    715   Ar MOL     1       4.787  14.327  -4.424  1.00  0.00          AR  \nATOM    716   Ar MOL     1       8.672 -16.024   2.154  1.00  0.00          AR  \nATOM    717   Ar MOL     1       3.363  14.867   1.044  1.00  0.00          AR  \nATOM    718   Ar MOL     1      -2.145  -8.172   9.137  1.00  0.00          AR  \nATOM    719   Ar MOL     1      -3.184   0.625  -4.472  1.00  0.00          AR  \nATOM    720   Ar MOL     1       8.199 -14.838  -1.248  1.00  0.00          AR  \nATOM    721   Ar MOL     1       6.384 -12.006 -10.832  1.00  0.00          AR  \nATOM    722   Ar MOL     1       1.936   7.211  14.874  1.00  0.00          AR  \nATOM    723   Ar MOL     1       3.355 -13.148   1.713  1.00  0.00          AR  \nATOM    724   Ar MOL     1      11.297   1.369   4.006  1.00  0.00          AR  \nATOM    725   Ar MOL     1      16.139 -10.646   9.829  1.00  0.00          AR  \nATOM    726   Ar MOL     1      15.980   7.324   6.426  1.00  0.00          AR  \nATOM    727   Ar MOL     1     -14.106   0.985 -15.643  1.00  0.00          AR  \nATOM    728   Ar MOL     1       5.796   6.528  16.140  1.00  0.00          AR  \nATOM    729   Ar MOL     1       7.110  -2.037   4.051  1.00  0.00          AR  \nATOM    730   Ar MOL     1     -11.122 -15.212   4.564  1.00  0.00          AR  \nATOM    731   Ar MOL     1      -6.455  -3.969  -0.500  1.00  0.00          AR  \nATOM    732   Ar MOL     1      16.139   5.776  14.565  1.00  0.00          AR  \nATOM    733   Ar MOL     1       9.502   9.818  11.749  1.00  0.00          AR  \nATOM    734   Ar MOL     1      -2.872  10.125   6.214  1.00  0.00          AR  \nATOM    735   Ar MOL     1      -3.070  14.811 -14.968  1.00  0.00          AR  \nATOM    736   Ar MOL     1      -4.469   3.557  -6.643  1.00  0.00          AR  \nATOM    737   Ar MOL     1       4.401  11.708  -7.871  1.00  0.00          AR  \nATOM    738   Ar MOL     1     -14.876  12.350  15.809  1.00  0.00          AR  \nATOM    739   Ar MOL     1     -16.138 -11.609  -3.434  1.00  0.00          AR  \nATOM    740   Ar MOL     1      -1.928   2.057   5.093  1.00  0.00          AR  \nATOM    741   Ar MOL     1      -4.466   9.734   1.441  1.00  0.00          AR  \nATOM    742   Ar MOL     1      -8.829   8.757  -0.359  1.00  0.00          AR  \nATOM    743   Ar MOL     1     -14.107  15.557   6.456  1.00  0.00          AR  \nATOM    744   Ar MOL     1      13.855  12.956  15.613  1.00  0.00          AR  \nATOM    745   Ar MOL     1       2.792   6.915 -16.118  1.00  0.00          AR  \nATOM    746   Ar MOL     1      12.199  -0.806  13.207  1.00  0.00          AR  \nATOM    747   Ar MOL     1       7.369   1.360 -12.755  1.00  0.00          AR  \nATOM    748   Ar MOL     1       6.249   6.854   7.124  1.00  0.00          AR  \nATOM    749   Ar MOL     1      14.057  -8.160   9.499  1.00  0.00          AR  \nATOM    750   Ar MOL     1       4.029   0.533  16.150  1.00  0.00          AR  \nATOM    751   Ar MOL     1     -12.331  -0.095   0.328  1.00  0.00          AR  \nATOM    752   Ar MOL     1       8.482  -1.547 -11.939  1.00  0.00          AR  \nATOM    753   Ar MOL     1      -9.956   9.487 -15.445  1.00  0.00          AR  \nATOM    754   Ar MOL     1      13.808  13.640 -10.819  1.00  0.00          AR  \nATOM    755   Ar MOL     1     -10.221  -0.086  -8.953  1.00  0.00          AR  \nATOM    756   Ar MOL     1      14.440  10.102  -8.444  1.00  0.00          AR  \nATOM    757   Ar MOL     1      -7.081  -2.158  13.558  1.00  0.00          AR  \nATOM    758   Ar MOL     1     -13.802   7.046   1.260  1.00  0.00          AR  \nATOM    759   Ar MOL     1       0.449   7.211 -13.287  1.00  0.00          AR  \nATOM    760   Ar MOL     1      -3.213   6.328  -0.073  1.00  0.00          AR  \nATOM    761   Ar MOL     1     -12.041 -12.541  15.018  1.00  0.00          AR  \nATOM    762   Ar MOL     1      -2.288   2.694   8.144  1.00  0.00          AR  \nATOM    763   Ar MOL     1      14.768  12.561 -13.334  1.00  0.00          AR  \nATOM    764   Ar MOL     1      13.749   8.161   3.705  1.00  0.00          AR  \nATOM    765   Ar MOL     1      -9.527 -12.963  -4.694  1.00  0.00          AR  \nATOM    766   Ar MOL     1     -12.325  -4.416   5.930  1.00  0.00          AR  \nATOM    767   Ar MOL     1      -2.895   0.334   3.122  1.00  0.00          AR  \nATOM    768   Ar MOL     1       6.738   3.555   7.321  1.00  0.00          AR  \nATOM    769   Ar MOL     1      -1.952   3.949  12.985  1.00  0.00          AR  \nATOM    770   Ar MOL     1       9.889  14.744  -2.941  1.00  0.00          AR  \nATOM    771   Ar MOL     1       6.813  -8.496   9.372  1.00  0.00          AR  \nATOM    772   Ar MOL     1       4.849 -13.254   5.649  1.00  0.00          AR  \nATOM    773   Ar MOL     1      -2.938  13.611   7.458  1.00  0.00          AR  \nATOM    774   Ar MOL     1       8.663 -14.203 -12.555  1.00  0.00          AR  \nATOM    775   Ar MOL     1     -12.427  16.204  -0.683  1.00  0.00          AR  \nATOM    776   Ar MOL     1       4.037   1.188   8.512  1.00  0.00          AR  \nATOM    777   Ar MOL     1      15.141  -7.033 -11.338  1.00  0.00          AR  \nATOM    778   Ar MOL     1      -4.491   4.282 -12.556  1.00  0.00          AR  \nATOM    779   Ar MOL     1      -8.081   7.768  -9.471  1.00  0.00          AR  \nATOM    780   Ar MOL     1       8.726 -13.386  13.290  1.00  0.00          AR  \nATOM    781   Ar MOL     1      14.686 -14.780   9.039  1.00  0.00          AR  \nATOM    782   Ar MOL     1      -0.817  -3.547 -10.199  1.00  0.00          AR  \nATOM    783   Ar MOL     1      11.467   0.340  -1.747  1.00  0.00          AR  \nATOM    784   Ar MOL     1       6.362   3.799  11.672  1.00  0.00          AR  \nATOM    785   Ar MOL     1     -16.137  -8.923 -16.139  1.00  0.00          AR  \nATOM    786   Ar MOL     1      10.382   1.887  10.776  1.00  0.00          AR  \nATOM    787   Ar MOL     1      -7.791  13.197  -6.777  1.00  0.00          AR  \nATOM    788   Ar MOL     1     -13.189   8.187   5.494  1.00  0.00          AR  \nATOM    789   Ar MOL     1       8.559  -0.099  12.335  1.00  0.00          AR  \nATOM    790   Ar MOL     1       5.574  -0.912 -14.461  1.00  0.00          AR  \nATOM    791   Ar MOL     1       8.439   5.997  13.732  1.00  0.00          AR  \nATOM    792   Ar MOL     1      13.758  13.059  -6.203  1.00  0.00          AR  \nATOM    793   Ar MOL     1     -14.424   6.502 -13.621  1.00  0.00          AR  \nATOM    794   Ar MOL     1       7.341  -7.938 -13.771  1.00  0.00          AR  \nATOM    795   Ar MOL     1      -2.594  -4.035  -0.734  1.00  0.00          AR  \nATOM    796   Ar MOL     1     -15.586  -3.503 -10.086  1.00  0.00          AR  \nATOM    797   Ar MOL     1       4.321   8.992  -6.937  1.00  0.00          AR  \nATOM    798   Ar MOL     1      -9.403   0.784   0.909  1.00  0.00          AR  \nATOM    799   Ar MOL     1      -0.215  13.714 -12.449  1.00  0.00          AR  \nATOM    800   Ar MOL     1      -5.856  14.004 -14.578  1.00  0.00          AR  \nATOM    801   Ar MOL     1       4.883   0.996  11.328  1.00  0.00          AR  \nATOM    802   Ar MOL     1       9.707  14.067  13.483  1.00  0.00          AR  \nATOM    803   Ar MOL     1      11.907  16.139  -4.185  1.00  0.00          AR  \nATOM    804   Ar MOL     1      -4.356  -1.961   0.816  1.00  0.00          AR  \nATOM    805   Ar MOL     1       1.052   0.579  12.916  1.00  0.00          AR  \nATOM    806   Ar MOL     1      12.608  15.262  14.085  1.00  0.00          AR  \nATOM    807   Ar MOL     1     -13.310  -9.056  -9.762  1.00  0.00          AR  \nATOM    808   Ar MOL     1      -5.266  -1.389  -1.940  1.00  0.00          AR  \nATOM    809   Ar MOL     1      14.631  -4.135  13.822  1.00  0.00          AR  \nATOM    810   Ar MOL     1      -5.634  11.651  15.482  1.00  0.00          AR  \nATOM    811   Ar MOL     1       1.221   5.688   2.933  1.00  0.00          AR  \nATOM    812   Ar MOL     1      -2.442  -9.684 -15.731  1.00  0.00          AR  \nATOM    813   Ar MOL     1      14.844  13.837   1.940  1.00  0.00          AR  \nATOM    814   Ar MOL     1      13.523  -9.383 -10.764  1.00  0.00          AR  \nATOM    815   Ar MOL     1       2.200 -13.917  -8.021  1.00  0.00          AR  \nATOM    816   Ar MOL     1     -15.309   6.522  12.553  1.00  0.00          AR  \nATOM    817   Ar MOL     1      -2.157   9.503  -0.546  1.00  0.00          AR  \nATOM    818   Ar MOL     1      -6.049   6.478 -11.979  1.00  0.00          AR  \nATOM    819   Ar MOL     1       0.992 -10.523  15.952  1.00  0.00          AR  \nATOM    820   Ar MOL     1       3.957  -3.107  11.871  1.00  0.00          AR  \nATOM    821   Ar MOL     1      -0.988   3.374  -3.671  1.00  0.00          AR  \nATOM    822   Ar MOL     1     -15.903  -9.057   7.752  1.00  0.00          AR  \nATOM    823   Ar MOL     1      -4.113  -8.489  14.606  1.00  0.00          AR  \nATOM    824   Ar MOL     1       3.710 -16.138  12.399  1.00  0.00          AR  \nATOM    825   Ar MOL     1       1.138   6.494  -8.169  1.00  0.00          AR  \nATOM    826   Ar MOL     1     -16.157  14.636   0.268  1.00  0.00          AR  \nATOM    827   Ar MOL     1       3.531  -6.510  -8.482  1.00  0.00          AR  \nATOM    828   Ar MOL     1       0.277  12.802  -6.977  1.00  0.00          AR  \nATOM    829   Ar MOL     1       7.977 -12.376   3.545  1.00  0.00          AR  \nATOM    830   Ar MOL     1      11.994   1.733  16.142  1.00  0.00          AR  \nATOM    831   Ar MOL     1       2.739 -15.714  -5.847  1.00  0.00          AR  \nATOM    832   Ar MOL     1      16.140   5.314   9.752  1.00  0.00          AR  \nATOM    833   Ar MOL     1      13.594  16.138   1.093  1.00  0.00          AR  \nATOM    834   Ar MOL     1      14.001  -6.143  15.760  1.00  0.00          AR  \nATOM    835   Ar MOL     1       7.548   6.225   9.479  1.00  0.00          AR  \nATOM    836   Ar MOL     1       6.291 -15.914  -9.249  1.00  0.00          AR  \nATOM    837   Ar MOL     1      -4.340  15.101  -3.383  1.00  0.00          AR  \nATOM    838   Ar MOL     1      -1.351   2.038   1.587  1.00  0.00          AR  \nATOM    839   Ar MOL     1      15.175 -15.950   4.664  1.00  0.00          AR  \nATOM    840   Ar MOL     1      -2.803   4.010 -15.645  1.00  0.00          AR  \nATOM    841   Ar MOL     1      11.696   2.257  -6.629  1.00  0.00          AR  \nATOM    842   Ar MOL     1      12.573   3.494   9.921  1.00  0.00          AR  \nATOM    843   Ar MOL     1     -13.069   6.967 -10.813  1.00  0.00          AR  \nATOM    844   Ar MOL     1      -2.617   3.139 -10.388  1.00  0.00          AR  \nATOM    845   Ar MOL     1      12.692 -12.619 -14.054  1.00  0.00          AR  \nATOM    846   Ar MOL     1       7.219  -0.541   1.734  1.00  0.00          AR  \nATOM    847   Ar MOL     1       0.045  -2.702  15.361  1.00  0.00          AR  \nATOM    848   Ar MOL     1     -11.614  13.327   2.405  1.00  0.00          AR  \nATOM    849   Ar MOL     1       6.116   5.452 -10.575  1.00  0.00          AR  \nATOM    850   Ar MOL     1      10.887   2.102  13.651  1.00  0.00          AR  \nATOM    851   Ar MOL     1      -9.238   9.967   6.383  1.00  0.00          AR  \nATOM    852   Ar MOL     1      13.219  10.921 -16.140  1.00  0.00          AR  \nATOM    853   Ar MOL     1       5.672  -7.383   3.736  1.00  0.00          AR  \nATOM    854   Ar MOL     1       3.695  -5.321  -2.649  1.00  0.00          AR  \nATOM    855   Ar MOL     1      -6.751  -8.408   6.601  1.00  0.00          AR  \nATOM    856   Ar MOL     1       6.817  11.737 -14.474  1.00  0.00          AR  \nATOM    857   Ar MOL     1       6.620 -14.120   7.722  1.00  0.00          AR  \nATOM    858   Ar MOL     1      -7.935 -12.044   7.846  1.00  0.00          AR  \nATOM    859   Ar MOL     1      -8.505   5.374  -6.129  1.00  0.00          AR  \nATOM    860   Ar MOL     1      -6.944  11.637  11.296  1.00  0.00          AR  \nATOM    861   Ar MOL     1       7.968  -4.732  16.140  1.00  0.00          AR  \nATOM    862   Ar MOL     1      -1.618 -10.040  15.228  1.00  0.00          AR  \nATOM    863   Ar MOL     1     -10.954  15.264  11.158  1.00  0.00          AR  \nENDMDL\n",
           "type": "blob"
          }
         ],
         "kwargs": {
          "defaultRepresentation": true,
          "ext": "pdb"
         },
         "methodName": "loadFile",
         "reconstruc_color_scheme": false,
         "target": "Stage",
         "type": "call_method"
        },
        {
         "args": [
          "500px",
          "500px"
         ],
         "kwargs": {},
         "methodName": "setSize",
         "reconstruc_color_scheme": false,
         "target": "Widget",
         "type": "call_method"
        },
        {
         "args": [
          "unitcell"
         ],
         "component_index": 0,
         "kwargs": {
          "sele": "all"
         },
         "methodName": "addRepresentation",
         "reconstruc_color_scheme": false,
         "target": "compList",
         "type": "call_method"
        },
        {
         "args": [
          "spacefill"
         ],
         "component_index": 0,
         "kwargs": {
          "sele": "all"
         },
         "methodName": "addRepresentation",
         "reconstruc_color_scheme": false,
         "target": "compList",
         "type": "call_method"
        },
        {
         "args": [
          "ball+stick",
          0
         ],
         "kwargs": {},
         "methodName": "removeRepresentationsByName",
         "reconstruc_color_scheme": false,
         "target": "Widget",
         "type": "call_method"
        },
        {
         "args": [],
         "kwargs": {
          "cameraType": "orthographic"
         },
         "methodName": "setParameters",
         "reconstruc_color_scheme": false,
         "target": "Stage",
         "type": "call_method"
        },
        {
         "args": [
          {
           "clipDist": 0
          }
         ],
         "kwargs": {},
         "methodName": "setParameters",
         "reconstruc_color_scheme": false,
         "target": "Widget",
         "type": "call_method"
        },
        {
         "args": [
          "spacefill",
          0
         ],
         "kwargs": {
          "colorScale": "rainbow",
          "colorScheme": "element",
          "radiusScale": 0.5,
          "radiusType": "covalent"
         },
         "methodName": "updateRepresentationsByName",
         "reconstruc_color_scheme": false,
         "target": "Widget",
         "type": "call_method"
        }
       ],
       "_ngl_original_stage_parameters": {},
       "_ngl_repr_dict": {},
       "_ngl_serialize": false,
       "_ngl_version": "",
       "_ngl_view_id": [],
       "_player_dict": {},
       "_scene_position": {},
       "_scene_rotation": {},
       "_synced_model_ids": [],
       "_synced_repr_model_ids": [],
       "_view_count": null,
       "_view_height": "",
       "_view_module": "nglview-js-widgets",
       "_view_module_version": "3.0.1",
       "_view_name": "NGLView",
       "_view_width": "",
       "background": "white",
       "frame": 0,
       "gui_style": null,
       "layout": "IPY_MODEL_8d055975f5f7402991f5fff1a10d498b",
       "max_frame": 0,
       "n_components": 0,
       "picked": {}
      }
     },
     "2b874003acef424ebc1474dd417d05d6": {
      "model_module": "nglview-js-widgets",
      "model_module_version": "3.0.1",
      "model_name": "ColormakerRegistryModel",
      "state": {
       "_dom_classes": [],
       "_model_module": "nglview-js-widgets",
       "_model_module_version": "3.0.1",
       "_model_name": "ColormakerRegistryModel",
       "_msg_ar": [],
       "_msg_q": [],
       "_ready": false,
       "_view_count": null,
       "_view_module": "nglview-js-widgets",
       "_view_module_version": "3.0.1",
       "_view_name": "ColormakerRegistryView",
       "layout": "IPY_MODEL_1c44970fd0f44e75a5403175e2bd6418"
      }
     },
     "40af728e2e7b4fefb02763180327fe53": {
      "model_module": "@jupyter-widgets/controls",
      "model_module_version": "1.5.0",
      "model_name": "DropdownModel",
      "state": {
       "_dom_classes": [],
       "_model_module": "@jupyter-widgets/controls",
       "_model_module_version": "1.5.0",
       "_model_name": "DropdownModel",
       "_options_labels": [
        " ",
        "picking",
        "random",
        "uniform",
        "atomindex",
        "residueindex",
        "chainindex",
        "modelindex",
        "sstruc",
        "element",
        "resname",
        "bfactor",
        "hydrophobicity",
        "value",
        "volume",
        "occupancy"
       ],
       "_view_count": null,
       "_view_module": "@jupyter-widgets/controls",
       "_view_module_version": "1.5.0",
       "_view_name": "DropdownView",
       "description": "Color scheme",
       "description_tooltip": null,
       "disabled": false,
       "index": 9,
       "layout": "IPY_MODEL_bc52490b547648c7867e8c6b358c1e78",
       "style": "IPY_MODEL_15cbfaaa553940c1a9e3b92e618a9107"
      }
     },
     "4295123b7d414de0a272a3136b87ee07": {
      "model_module": "@jupyter-widgets/controls",
      "model_module_version": "1.5.0",
      "model_name": "DropdownModel",
      "state": {
       "_dom_classes": [],
       "_model_module": "@jupyter-widgets/controls",
       "_model_module_version": "1.5.0",
       "_model_name": "DropdownModel",
       "_options_labels": [
        "All",
        "Ar"
       ],
       "_view_count": null,
       "_view_module": "@jupyter-widgets/controls",
       "_view_module_version": "1.5.0",
       "_view_name": "DropdownView",
       "description": "Show",
       "description_tooltip": null,
       "disabled": false,
       "index": 0,
       "layout": "IPY_MODEL_baf8041ffb7b4dd6b547e940d70dae35",
       "style": "IPY_MODEL_fcca4ca5add84fe89ee9c99908422c23"
      }
     },
     "4edba5fa1bf947089e64a911fd719511": {
      "model_module": "@jupyter-widgets/controls",
      "model_module_version": "1.5.0",
      "model_name": "ButtonStyleModel",
      "state": {
       "_model_module": "@jupyter-widgets/controls",
       "_model_module_version": "1.5.0",
       "_model_name": "ButtonStyleModel",
       "_view_count": null,
       "_view_module": "@jupyter-widgets/base",
       "_view_module_version": "1.2.0",
       "_view_name": "StyleView",
       "button_color": null,
       "font_weight": ""
      }
     },
     "505a3ed6cfe24212aa58a3c41c068794": {
      "model_module": "@jupyter-widgets/base",
      "model_module_version": "1.2.0",
      "model_name": "LayoutModel",
      "state": {
       "_model_module": "@jupyter-widgets/base",
       "_model_module_version": "1.2.0",
       "_model_name": "LayoutModel",
       "_view_count": null,
       "_view_module": "@jupyter-widgets/base",
       "_view_module_version": "1.2.0",
       "_view_name": "LayoutView",
       "align_content": null,
       "align_items": null,
       "align_self": null,
       "border": null,
       "bottom": null,
       "display": null,
       "flex": null,
       "flex_flow": null,
       "grid_area": null,
       "grid_auto_columns": null,
       "grid_auto_flow": null,
       "grid_auto_rows": null,
       "grid_column": null,
       "grid_gap": null,
       "grid_row": null,
       "grid_template_areas": null,
       "grid_template_columns": null,
       "grid_template_rows": null,
       "height": null,
       "justify_content": null,
       "justify_items": null,
       "left": null,
       "margin": null,
       "max_height": null,
       "max_width": null,
       "min_height": null,
       "min_width": null,
       "object_fit": null,
       "object_position": null,
       "order": null,
       "overflow": null,
       "overflow_x": null,
       "overflow_y": null,
       "padding": null,
       "right": null,
       "top": null,
       "visibility": null,
       "width": null
      }
     },
     "5830ec37c8bd4d26bcbfbebead6ddf1a": {
      "buffers": [
       {
        "data": "",
        "encoding": "base64",
        "path": [
         "value"
        ]
       }
      ],
      "model_module": "@jupyter-widgets/controls",
      "model_module_version": "1.5.0",
      "model_name": "ImageModel",
      "state": {
       "_dom_classes": [],
       "_model_module": "@jupyter-widgets/controls",
       "_model_module_version": "1.5.0",
       "_model_name": "ImageModel",
       "_view_count": null,
       "_view_module": "@jupyter-widgets/controls",
       "_view_module_version": "1.5.0",
       "_view_name": "ImageView",
       "format": "png",
       "height": "",
       "layout": "IPY_MODEL_e02400cc09bf4ca2bdb17f68ce5d67bf",
       "width": "900.0"
      }
     },
     "58bacbc3fa6a4ead88f22a3fa777aa1b": {
      "model_module": "@jupyter-widgets/controls",
      "model_module_version": "1.5.0",
      "model_name": "PlayModel",
      "state": {
       "_dom_classes": [],
       "_model_module": "@jupyter-widgets/controls",
       "_model_module_version": "1.5.0",
       "_model_name": "PlayModel",
       "_playing": false,
       "_repeat": false,
       "_view_count": null,
       "_view_module": "@jupyter-widgets/controls",
       "_view_module_version": "1.5.0",
       "_view_name": "PlayView",
       "description": "",
       "description_tooltip": null,
       "disabled": false,
       "interval": 100,
       "layout": "IPY_MODEL_505a3ed6cfe24212aa58a3c41c068794",
       "max": 0,
       "min": 0,
       "show_repeat": true,
       "step": 1,
       "style": "IPY_MODEL_da2aaf4cb01d48be96ed0e56fd8cd8ca",
       "value": 0
      }
     },
     "5d1d145c824349babedcbc8dc78551bf": {
      "model_module": "@jupyter-widgets/base",
      "model_module_version": "1.2.0",
      "model_name": "LayoutModel",
      "state": {
       "_model_module": "@jupyter-widgets/base",
       "_model_module_version": "1.2.0",
       "_model_name": "LayoutModel",
       "_view_count": null,
       "_view_module": "@jupyter-widgets/base",
       "_view_module_version": "1.2.0",
       "_view_name": "LayoutView",
       "align_content": null,
       "align_items": null,
       "align_self": null,
       "border": null,
       "bottom": null,
       "display": null,
       "flex": null,
       "flex_flow": null,
       "grid_area": null,
       "grid_auto_columns": null,
       "grid_auto_flow": null,
       "grid_auto_rows": null,
       "grid_column": null,
       "grid_gap": null,
       "grid_row": null,
       "grid_template_areas": null,
       "grid_template_columns": null,
       "grid_template_rows": null,
       "height": null,
       "justify_content": null,
       "justify_items": null,
       "left": null,
       "margin": null,
       "max_height": null,
       "max_width": null,
       "min_height": null,
       "min_width": null,
       "object_fit": null,
       "object_position": null,
       "order": null,
       "overflow": null,
       "overflow_x": null,
       "overflow_y": null,
       "padding": null,
       "right": null,
       "top": null,
       "visibility": null,
       "width": null
      }
     },
     "5d762f60eb7b42dca7d3d31a4c0c67bb": {
      "model_module": "@jupyter-widgets/controls",
      "model_module_version": "1.5.0",
      "model_name": "SliderStyleModel",
      "state": {
       "_model_module": "@jupyter-widgets/controls",
       "_model_module_version": "1.5.0",
       "_model_name": "SliderStyleModel",
       "_view_count": null,
       "_view_module": "@jupyter-widgets/base",
       "_view_module_version": "1.2.0",
       "_view_name": "StyleView",
       "description_width": "",
       "handle_color": null
      }
     },
     "5f4a157adeb14879abe805a7460b6ca8": {
      "model_module": "@jupyter-widgets/controls",
      "model_module_version": "1.5.0",
      "model_name": "HBoxModel",
      "state": {
       "_dom_classes": [],
       "_model_module": "@jupyter-widgets/controls",
       "_model_module_version": "1.5.0",
       "_model_name": "HBoxModel",
       "_view_count": null,
       "_view_module": "@jupyter-widgets/controls",
       "_view_module_version": "1.5.0",
       "_view_name": "HBoxView",
       "box_style": "",
       "children": [
        "IPY_MODEL_1d4ba07791e3484daed6f88298b67774",
        "IPY_MODEL_68c38080c0b8463595d2c1c0e884c7ec"
       ],
       "layout": "IPY_MODEL_c44ae552c7564d87a7c17ccb7b7d5f2e"
      }
     },
     "68c38080c0b8463595d2c1c0e884c7ec": {
      "model_module": "@jupyter-widgets/controls",
      "model_module_version": "1.5.0",
      "model_name": "VBoxModel",
      "state": {
       "_dom_classes": [],
       "_model_module": "@jupyter-widgets/controls",
       "_model_module_version": "1.5.0",
       "_model_name": "VBoxModel",
       "_view_count": null,
       "_view_module": "@jupyter-widgets/controls",
       "_view_module_version": "1.5.0",
       "_view_name": "VBoxView",
       "box_style": "",
       "children": [
        "IPY_MODEL_4295123b7d414de0a272a3136b87ee07",
        "IPY_MODEL_40af728e2e7b4fefb02763180327fe53",
        "IPY_MODEL_70d8f092ecfb49e7b6ea48f1cb79894b"
       ],
       "layout": "IPY_MODEL_e2b9930706004c5f8bf945a9cf8ac230"
      }
     },
     "70d8f092ecfb49e7b6ea48f1cb79894b": {
      "model_module": "@jupyter-widgets/controls",
      "model_module_version": "1.5.0",
      "model_name": "FloatSliderModel",
      "state": {
       "_dom_classes": [],
       "_model_module": "@jupyter-widgets/controls",
       "_model_module_version": "1.5.0",
       "_model_name": "FloatSliderModel",
       "_view_count": null,
       "_view_module": "@jupyter-widgets/controls",
       "_view_module_version": "1.5.0",
       "_view_name": "FloatSliderView",
       "continuous_update": true,
       "description": "Ball size",
       "description_tooltip": null,
       "disabled": false,
       "layout": "IPY_MODEL_5d1d145c824349babedcbc8dc78551bf",
       "max": 1.5,
       "min": 0.0,
       "orientation": "horizontal",
       "readout": true,
       "readout_format": ".2f",
       "step": 0.01,
       "style": "IPY_MODEL_f811a99350c445008fe47bab45ebabd9",
       "value": 0.5
      }
     },
     "81ffdd50a028407ca28d9603613b0e12": {
      "model_module": "@jupyter-widgets/base",
      "model_module_version": "1.2.0",
      "model_name": "LayoutModel",
      "state": {
       "_model_module": "@jupyter-widgets/base",
       "_model_module_version": "1.2.0",
       "_model_name": "LayoutModel",
       "_view_count": null,
       "_view_module": "@jupyter-widgets/base",
       "_view_module_version": "1.2.0",
       "_view_name": "LayoutView",
       "align_content": null,
       "align_items": null,
       "align_self": null,
       "border": null,
       "bottom": null,
       "display": null,
       "flex": null,
       "flex_flow": null,
       "grid_area": null,
       "grid_auto_columns": null,
       "grid_auto_flow": null,
       "grid_auto_rows": null,
       "grid_column": null,
       "grid_gap": null,
       "grid_row": null,
       "grid_template_areas": null,
       "grid_template_columns": null,
       "grid_template_rows": null,
       "height": null,
       "justify_content": null,
       "justify_items": null,
       "left": null,
       "margin": null,
       "max_height": null,
       "max_width": null,
       "min_height": null,
       "min_width": null,
       "object_fit": null,
       "object_position": null,
       "order": null,
       "overflow": null,
       "overflow_x": null,
       "overflow_y": null,
       "padding": null,
       "right": null,
       "top": null,
       "visibility": null,
       "width": null
      }
     },
     "880898828d044354a004233c429d51e7": {
      "model_module": "@jupyter-widgets/controls",
      "model_module_version": "1.5.0",
      "model_name": "LinkModel",
      "state": {
       "_model_module": "@jupyter-widgets/controls",
       "_model_module_version": "1.5.0",
       "_model_name": "LinkModel",
       "_view_count": null,
       "_view_module": "@jupyter-widgets/controls",
       "_view_module_version": "1.5.0",
       "_view_name": null,
       "source": [
        "IPY_MODEL_58bacbc3fa6a4ead88f22a3fa777aa1b",
        "value"
       ],
       "target": [
        "IPY_MODEL_1d4ba07791e3484daed6f88298b67774",
        "frame"
       ]
      }
     },
     "8d055975f5f7402991f5fff1a10d498b": {
      "model_module": "@jupyter-widgets/base",
      "model_module_version": "1.2.0",
      "model_name": "LayoutModel",
      "state": {
       "_model_module": "@jupyter-widgets/base",
       "_model_module_version": "1.2.0",
       "_model_name": "LayoutModel",
       "_view_count": null,
       "_view_module": "@jupyter-widgets/base",
       "_view_module_version": "1.2.0",
       "_view_name": "LayoutView",
       "align_content": null,
       "align_items": null,
       "align_self": null,
       "border": null,
       "bottom": null,
       "display": null,
       "flex": null,
       "flex_flow": null,
       "grid_area": null,
       "grid_auto_columns": null,
       "grid_auto_flow": null,
       "grid_auto_rows": null,
       "grid_column": null,
       "grid_gap": null,
       "grid_row": null,
       "grid_template_areas": null,
       "grid_template_columns": null,
       "grid_template_rows": null,
       "height": null,
       "justify_content": null,
       "justify_items": null,
       "left": null,
       "margin": null,
       "max_height": null,
       "max_width": null,
       "min_height": null,
       "min_width": null,
       "object_fit": null,
       "object_position": null,
       "order": null,
       "overflow": null,
       "overflow_x": null,
       "overflow_y": null,
       "padding": null,
       "right": null,
       "top": null,
       "visibility": null,
       "width": null
      }
     },
     "b27b5935724f46739e1f97cf1f04c96e": {
      "model_module": "@jupyter-widgets/controls",
      "model_module_version": "1.5.0",
      "model_name": "HBoxModel",
      "state": {
       "_dom_classes": [],
       "_model_module": "@jupyter-widgets/controls",
       "_model_module_version": "1.5.0",
       "_model_name": "HBoxModel",
       "_view_count": null,
       "_view_module": "@jupyter-widgets/controls",
       "_view_module_version": "1.5.0",
       "_view_name": "HBoxView",
       "box_style": "",
       "children": [
        "IPY_MODEL_58bacbc3fa6a4ead88f22a3fa777aa1b",
        "IPY_MODEL_b63ed23ca12143d1bcd1b0bc83a4a960"
       ],
       "layout": "IPY_MODEL_e107d5662aba4dddb22c9fb01f71ebda"
      }
     },
     "b63ed23ca12143d1bcd1b0bc83a4a960": {
      "model_module": "@jupyter-widgets/controls",
      "model_module_version": "1.5.0",
      "model_name": "IntSliderModel",
      "state": {
       "_dom_classes": [],
       "_model_module": "@jupyter-widgets/controls",
       "_model_module_version": "1.5.0",
       "_model_name": "IntSliderModel",
       "_view_count": null,
       "_view_module": "@jupyter-widgets/controls",
       "_view_module_version": "1.5.0",
       "_view_name": "IntSliderView",
       "continuous_update": true,
       "description": "",
       "description_tooltip": null,
       "disabled": false,
       "layout": "IPY_MODEL_81ffdd50a028407ca28d9603613b0e12",
       "max": 0,
       "min": 0,
       "orientation": "horizontal",
       "readout": true,
       "readout_format": "d",
       "step": 1,
       "style": "IPY_MODEL_5d762f60eb7b42dca7d3d31a4c0c67bb",
       "value": 0
      }
     },
     "baf8041ffb7b4dd6b547e940d70dae35": {
      "model_module": "@jupyter-widgets/base",
      "model_module_version": "1.2.0",
      "model_name": "LayoutModel",
      "state": {
       "_model_module": "@jupyter-widgets/base",
       "_model_module_version": "1.2.0",
       "_model_name": "LayoutModel",
       "_view_count": null,
       "_view_module": "@jupyter-widgets/base",
       "_view_module_version": "1.2.0",
       "_view_name": "LayoutView",
       "align_content": null,
       "align_items": null,
       "align_self": null,
       "border": null,
       "bottom": null,
       "display": null,
       "flex": null,
       "flex_flow": null,
       "grid_area": null,
       "grid_auto_columns": null,
       "grid_auto_flow": null,
       "grid_auto_rows": null,
       "grid_column": null,
       "grid_gap": null,
       "grid_row": null,
       "grid_template_areas": null,
       "grid_template_columns": null,
       "grid_template_rows": null,
       "height": null,
       "justify_content": null,
       "justify_items": null,
       "left": null,
       "margin": null,
       "max_height": null,
       "max_width": null,
       "min_height": null,
       "min_width": null,
       "object_fit": null,
       "object_position": null,
       "order": null,
       "overflow": null,
       "overflow_x": null,
       "overflow_y": null,
       "padding": null,
       "right": null,
       "top": null,
       "visibility": null,
       "width": null
      }
     },
     "bc52490b547648c7867e8c6b358c1e78": {
      "model_module": "@jupyter-widgets/base",
      "model_module_version": "1.2.0",
      "model_name": "LayoutModel",
      "state": {
       "_model_module": "@jupyter-widgets/base",
       "_model_module_version": "1.2.0",
       "_model_name": "LayoutModel",
       "_view_count": null,
       "_view_module": "@jupyter-widgets/base",
       "_view_module_version": "1.2.0",
       "_view_name": "LayoutView",
       "align_content": null,
       "align_items": null,
       "align_self": null,
       "border": null,
       "bottom": null,
       "display": null,
       "flex": null,
       "flex_flow": null,
       "grid_area": null,
       "grid_auto_columns": null,
       "grid_auto_flow": null,
       "grid_auto_rows": null,
       "grid_column": null,
       "grid_gap": null,
       "grid_row": null,
       "grid_template_areas": null,
       "grid_template_columns": null,
       "grid_template_rows": null,
       "height": null,
       "justify_content": null,
       "justify_items": null,
       "left": null,
       "margin": null,
       "max_height": null,
       "max_width": null,
       "min_height": null,
       "min_width": null,
       "object_fit": null,
       "object_position": null,
       "order": null,
       "overflow": null,
       "overflow_x": null,
       "overflow_y": null,
       "padding": null,
       "right": null,
       "top": null,
       "visibility": null,
       "width": null
      }
     },
     "c44ae552c7564d87a7c17ccb7b7d5f2e": {
      "model_module": "@jupyter-widgets/base",
      "model_module_version": "1.2.0",
      "model_name": "LayoutModel",
      "state": {
       "_model_module": "@jupyter-widgets/base",
       "_model_module_version": "1.2.0",
       "_model_name": "LayoutModel",
       "_view_count": null,
       "_view_module": "@jupyter-widgets/base",
       "_view_module_version": "1.2.0",
       "_view_name": "LayoutView",
       "align_content": null,
       "align_items": null,
       "align_self": null,
       "border": null,
       "bottom": null,
       "display": null,
       "flex": null,
       "flex_flow": null,
       "grid_area": null,
       "grid_auto_columns": null,
       "grid_auto_flow": null,
       "grid_auto_rows": null,
       "grid_column": null,
       "grid_gap": null,
       "grid_row": null,
       "grid_template_areas": null,
       "grid_template_columns": null,
       "grid_template_rows": null,
       "height": null,
       "justify_content": null,
       "justify_items": null,
       "left": null,
       "margin": null,
       "max_height": null,
       "max_width": null,
       "min_height": null,
       "min_width": null,
       "object_fit": null,
       "object_position": null,
       "order": null,
       "overflow": null,
       "overflow_x": null,
       "overflow_y": null,
       "padding": null,
       "right": null,
       "top": null,
       "visibility": null,
       "width": null
      }
     },
     "d692af07a207491dbfcdf85904f4a214": {
      "model_module": "@jupyter-widgets/controls",
      "model_module_version": "1.5.0",
      "model_name": "ButtonModel",
      "state": {
       "_dom_classes": [],
       "_model_module": "@jupyter-widgets/controls",
       "_model_module_version": "1.5.0",
       "_model_name": "ButtonModel",
       "_view_count": null,
       "_view_module": "@jupyter-widgets/controls",
       "_view_module_version": "1.5.0",
       "_view_name": "ButtonView",
       "button_style": "",
       "description": "",
       "disabled": false,
       "icon": "compress",
       "layout": "IPY_MODEL_e95648861be04a6e983a58517a62661f",
       "style": "IPY_MODEL_4edba5fa1bf947089e64a911fd719511",
       "tooltip": ""
      }
     },
     "da2aaf4cb01d48be96ed0e56fd8cd8ca": {
      "model_module": "@jupyter-widgets/controls",
      "model_module_version": "1.5.0",
      "model_name": "DescriptionStyleModel",
      "state": {
       "_model_module": "@jupyter-widgets/controls",
       "_model_module_version": "1.5.0",
       "_model_name": "DescriptionStyleModel",
       "_view_count": null,
       "_view_module": "@jupyter-widgets/base",
       "_view_module_version": "1.2.0",
       "_view_name": "StyleView",
       "description_width": ""
      }
     },
     "e02400cc09bf4ca2bdb17f68ce5d67bf": {
      "model_module": "@jupyter-widgets/base",
      "model_module_version": "1.2.0",
      "model_name": "LayoutModel",
      "state": {
       "_model_module": "@jupyter-widgets/base",
       "_model_module_version": "1.2.0",
       "_model_name": "LayoutModel",
       "_view_count": null,
       "_view_module": "@jupyter-widgets/base",
       "_view_module_version": "1.2.0",
       "_view_name": "LayoutView",
       "align_content": null,
       "align_items": null,
       "align_self": null,
       "border": null,
       "bottom": null,
       "display": null,
       "flex": null,
       "flex_flow": null,
       "grid_area": null,
       "grid_auto_columns": null,
       "grid_auto_flow": null,
       "grid_auto_rows": null,
       "grid_column": null,
       "grid_gap": null,
       "grid_row": null,
       "grid_template_areas": null,
       "grid_template_columns": null,
       "grid_template_rows": null,
       "height": null,
       "justify_content": null,
       "justify_items": null,
       "left": null,
       "margin": null,
       "max_height": null,
       "max_width": null,
       "min_height": null,
       "min_width": null,
       "object_fit": null,
       "object_position": null,
       "order": null,
       "overflow": null,
       "overflow_x": null,
       "overflow_y": null,
       "padding": null,
       "right": null,
       "top": null,
       "visibility": null,
       "width": null
      }
     },
     "e107d5662aba4dddb22c9fb01f71ebda": {
      "model_module": "@jupyter-widgets/base",
      "model_module_version": "1.2.0",
      "model_name": "LayoutModel",
      "state": {
       "_model_module": "@jupyter-widgets/base",
       "_model_module_version": "1.2.0",
       "_model_name": "LayoutModel",
       "_view_count": null,
       "_view_module": "@jupyter-widgets/base",
       "_view_module_version": "1.2.0",
       "_view_name": "LayoutView",
       "align_content": null,
       "align_items": null,
       "align_self": null,
       "border": null,
       "bottom": null,
       "display": null,
       "flex": null,
       "flex_flow": null,
       "grid_area": null,
       "grid_auto_columns": null,
       "grid_auto_flow": null,
       "grid_auto_rows": null,
       "grid_column": null,
       "grid_gap": null,
       "grid_row": null,
       "grid_template_areas": null,
       "grid_template_columns": null,
       "grid_template_rows": null,
       "height": null,
       "justify_content": null,
       "justify_items": null,
       "left": null,
       "margin": null,
       "max_height": null,
       "max_width": null,
       "min_height": null,
       "min_width": null,
       "object_fit": null,
       "object_position": null,
       "order": null,
       "overflow": null,
       "overflow_x": null,
       "overflow_y": null,
       "padding": null,
       "right": null,
       "top": null,
       "visibility": null,
       "width": null
      }
     },
     "e2b9930706004c5f8bf945a9cf8ac230": {
      "model_module": "@jupyter-widgets/base",
      "model_module_version": "1.2.0",
      "model_name": "LayoutModel",
      "state": {
       "_model_module": "@jupyter-widgets/base",
       "_model_module_version": "1.2.0",
       "_model_name": "LayoutModel",
       "_view_count": null,
       "_view_module": "@jupyter-widgets/base",
       "_view_module_version": "1.2.0",
       "_view_name": "LayoutView",
       "align_content": null,
       "align_items": null,
       "align_self": null,
       "border": null,
       "bottom": null,
       "display": null,
       "flex": null,
       "flex_flow": null,
       "grid_area": null,
       "grid_auto_columns": null,
       "grid_auto_flow": null,
       "grid_auto_rows": null,
       "grid_column": null,
       "grid_gap": null,
       "grid_row": null,
       "grid_template_areas": null,
       "grid_template_columns": null,
       "grid_template_rows": null,
       "height": null,
       "justify_content": null,
       "justify_items": null,
       "left": null,
       "margin": null,
       "max_height": null,
       "max_width": null,
       "min_height": null,
       "min_width": null,
       "object_fit": null,
       "object_position": null,
       "order": null,
       "overflow": null,
       "overflow_x": null,
       "overflow_y": null,
       "padding": null,
       "right": null,
       "top": null,
       "visibility": null,
       "width": null
      }
     },
     "e95648861be04a6e983a58517a62661f": {
      "model_module": "@jupyter-widgets/base",
      "model_module_version": "1.2.0",
      "model_name": "LayoutModel",
      "state": {
       "_model_module": "@jupyter-widgets/base",
       "_model_module_version": "1.2.0",
       "_model_name": "LayoutModel",
       "_view_count": null,
       "_view_module": "@jupyter-widgets/base",
       "_view_module_version": "1.2.0",
       "_view_name": "LayoutView",
       "align_content": null,
       "align_items": null,
       "align_self": null,
       "border": null,
       "bottom": null,
       "display": null,
       "flex": null,
       "flex_flow": null,
       "grid_area": null,
       "grid_auto_columns": null,
       "grid_auto_flow": null,
       "grid_auto_rows": null,
       "grid_column": null,
       "grid_gap": null,
       "grid_row": null,
       "grid_template_areas": null,
       "grid_template_columns": null,
       "grid_template_rows": null,
       "height": null,
       "justify_content": null,
       "justify_items": null,
       "left": null,
       "margin": null,
       "max_height": null,
       "max_width": null,
       "min_height": null,
       "min_width": null,
       "object_fit": null,
       "object_position": null,
       "order": null,
       "overflow": null,
       "overflow_x": null,
       "overflow_y": null,
       "padding": null,
       "right": null,
       "top": null,
       "visibility": null,
       "width": "34px"
      }
     },
     "f811a99350c445008fe47bab45ebabd9": {
      "model_module": "@jupyter-widgets/controls",
      "model_module_version": "1.5.0",
      "model_name": "SliderStyleModel",
      "state": {
       "_model_module": "@jupyter-widgets/controls",
       "_model_module_version": "1.5.0",
       "_model_name": "SliderStyleModel",
       "_view_count": null,
       "_view_module": "@jupyter-widgets/base",
       "_view_module_version": "1.2.0",
       "_view_name": "StyleView",
       "description_width": "",
       "handle_color": null
      }
     },
     "fcca4ca5add84fe89ee9c99908422c23": {
      "model_module": "@jupyter-widgets/controls",
      "model_module_version": "1.5.0",
      "model_name": "DescriptionStyleModel",
      "state": {
       "_model_module": "@jupyter-widgets/controls",
       "_model_module_version": "1.5.0",
       "_model_name": "DescriptionStyleModel",
       "_view_count": null,
       "_view_module": "@jupyter-widgets/base",
       "_view_module_version": "1.2.0",
       "_view_name": "StyleView",
       "description_width": ""
      }
     }
    },
    "version_major": 2,
    "version_minor": 0
   }
  }
 },
 "nbformat": 4,
 "nbformat_minor": 5
}